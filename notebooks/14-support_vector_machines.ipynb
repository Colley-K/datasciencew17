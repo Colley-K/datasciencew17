{
 "cells": [
  {
   "cell_type": "code",
   "execution_count": null,
   "metadata": {
    "collapsed": true
   },
   "outputs": [],
   "source": [
    "#%%html\n",
    "#<link rel=\"stylesheet\" href=\"static/hyrule.css\" type=\"text/css\">"
   ]
  },
  {
   "cell_type": "markdown",
   "metadata": {},
   "source": [
    "# Introduction to Support Vector Machines"
   ]
  },
  {
   "cell_type": "markdown",
   "metadata": {},
   "source": [
    "## Objectives\n",
    "\n",
    "- Linear Algebra Review\n",
    "- Get familiar with the theory behind Support Vector Machines\n",
    "- Learn how to Optimize with our 'C' variable\n",
    "- Work with Kernels  & more optimizations"
   ]
  },
  {
   "cell_type": "markdown",
   "metadata": {},
   "source": [
    "### Definitions:"
   ]
  },
  {
   "cell_type": "markdown",
   "metadata": {},
   "source": [
    "term / variable | definition\n",
    "--------|----------\n",
    "Vector | a quantity having direction and magnitude\n",
    "Hyperplane |  a subspace of one dimension less than the ambient space, which allows us to split our space.\n",
    "Kernel | function that enables us to transform our euclidean geometry in some way.  (Think similiarity function ~ dot products between vectors). \n",
    "$$b$$| intercept (hyperplane translation from origin)\n",
    "$$\\vec{w}$$ | normal vector (determines hyperplane orientation)\n",
    "$$\\vec{x_i}$$ | sample vector\n",
    "$$\\alpha_i$$ | Lagrangian weight\n",
    "$$C $$|  Regularization Term ( Allows us to vary our number of support vectors, ie margin of our 'street') (default = 1)\n",
    "$$epsilon$$ | our slack variable\n",
    "$$kernel$$ |  scikit learn parameter. Specify kernel of choice : 'linear','rbf','poly' (default is rbf)\n",
    "$$order$$ | degree of polynomial kernel function (default is 3)\n",
    "$$gamma$$ | Kernel gaussian coefficient for 'rbf' kernel (default is 0) \n",
    "\n",
    "reference : http://scikit-learn.org/stable/modules/generated/sklearn.svm.SVC.html"
   ]
  },
  {
   "cell_type": "markdown",
   "metadata": {},
   "source": [
    "##Class Notes"
   ]
  },
  {
   "cell_type": "markdown",
   "metadata": {},
   "source": [
    "\n",
    "\n",
    "## How would we split this dataset?  \n",
    "\n",
    "Figure 1 \n",
    "<img src='img/iris_split1.png'/>\n"
   ]
  },
  {
   "cell_type": "markdown",
   "metadata": {},
   "source": [
    "## And How would we split THIS dataset? \n",
    "\n",
    "Figure 2 \n",
    "\n",
    "<img src='img/iris_split2.png'/>"
   ]
  },
  {
   "cell_type": "markdown",
   "metadata": {},
   "source": [
    "It is not obvious how to divide the above data set into two distinct classes.\n",
    "  \n",
    "We will learn how. \n",
    "\n",
    "But first let's start with Linear Algebra review. \n",
    "\n",
    "\n",
    "### Basic operations on vectors in R^n\n",
    "\n",
    "\n",
    "In order to visualize the separation of our data (above) : we have restricted our data to two features.  Let's look at our two classes data points from distinct classes: \n",
    "\n",
    "Figure 3 \\\n",
    "\n",
    "<img src='img/Iris_split3.png'/>\n",
    "\n",
    "\n",
    "These data points are vectors.  (Note: if we were using all 4 features of the data, each vector would be represented as a 4 x 1 matrix (in lieu of 2 x 1))\n",
    "\n",
    "\n",
    "u = $\\begin{bmatrix}5\\\\3\\end{bmatrix}$\n",
    "\n",
    "v = $\\begin{bmatrix}5.4\\\\3\\end{bmatrix}$\n",
    "\n",
    "\n",
    "### Multiplication by a scalar:\n",
    "When we multiply a vector by a scalar, we are 'stretching' it (if scalar is pos. and 'shrinking' the vector if the scalar is neg.)\n",
    "\n",
    "c= 2\n",
    "cu =  ? \n",
    "\n",
    "\n",
    "### Vectors Inner Products \n",
    "\n",
    "Now let's find the dot product of u & v:\n",
    "\n",
    "u.v = $\\begin{bmatrix}5\\\\3\\end{bmatrix}^\\top$ $\\begin{bmatrix}5.4\\\\3\\end{bmatrix}$= $\\begin{bmatrix}5, 3\\end{bmatrix}$ $\\begin{bmatrix}5.4\\\\3\\end{bmatrix}$\n",
    "\n",
    "$u_1v_1 + u_2v_2$ =  ?\n",
    "\n",
    "### Dot Product Visualization\n",
    "\n",
    "We can visualize the dot product by taking v and orthogonally projecting onto u\n",
    "\n",
    "\n",
    "<img src='img/projection.png'/>\n",
    "\n",
    "\n",
    "### Norms: \n",
    "<img src='img/norm.png'/>\n",
    "\n",
    "Another property that we should be familiar with is the norm.\n",
    "Norm = Euclidean Length (or Hypotheneuse) as shown above.\n",
    "\n",
    "Norm : $${\\|u\\|}= \\sqrt{((5)^2 + (3)^2)}$$\n",
    "\n",
    "### Vector Addition / Subtraction\n",
    "\n",
    "u + v = ? "
   ]
  },
  {
   "cell_type": "markdown",
   "metadata": {},
   "source": [
    "### Theory Behind SVM\n",
    "\n",
    "Again lets consider our Iris Example.  In order to make the math work for us, we will consider one class to have a target value of (+1) and the other to have a value of (-1). \n",
    "\n",
    "- We know we need to draw a line (or hyperplane) to split these classes, but which line do we choose?   A line could have any orientation (w) and any displacement from origin (b).  We will find out how to develop the equation for the optimal Hyperplane Line.  \n",
    "\n",
    "- We want to add a line (while keeping in mind) that we would like to add the widest 'street' (margin) possible.  We will also learn how to optimize our model by adjusting the width of our margin."
   ]
  },
  {
   "cell_type": "markdown",
   "metadata": {},
   "source": [
    "\n",
    "####EQN #1) Our Decision Rule:\n",
    "\n",
    "Imagine we have a normal vector w (perpendicular to the margin) and some unknown vector x:\n",
    "In order to get a sense of which category (side of the street) our unknown vector is: we find the dot product of w and x ( if large enough, the unknown will be on the 'pos' side of street).\n",
    "\n",
    "$$\\vec{w}\\cdot\\vec{x} == ? $$ \n",
    "\n",
    "$$\\vec{w}\\cdot\\vec{x} +b \\geq 0$$   \n",
    "Then: positive sample\n",
    "\n",
    "\n",
    "#### EQN #2) For our x's in the margins of our 'street':\n",
    "\n",
    "$${y}_{i}(\\vec{w}\\cdot\\vec{x_+}+b)>=1$$ \n",
    "$${y}_{i}(\\vec{w}\\cdot\\vec{x_-}+b)<= -1$$ \n",
    "\n",
    "** (and for all x in in the margin of our street:)\n",
    "$${y}_{i}(\\vec{w}\\cdot\\vec{x}+b)-1= 0$$ \n",
    "\n",
    "**  Here we want to note: that 1 is arbritrary (mathematically convenient) \n",
    "  \n",
    "- Remember we are trying to develop a street as wide as possible (We will see later this, is an optimiz..)\n",
    "\n",
    "- We can find the differences of two vectors: (but this isn't our width).\n",
    "\n",
    "\n",
    "#### EQN #3)  Finding the width of our street:\n",
    " $$width =({x}_{+}-{x}_{-})\\cdot{{\\vec{w}\\above 1pt\\|w\\|}}$$\n",
    "\n",
    " $$ unit vector =  {{\\vec{w}\\above 1pt\\|w\\|}}$$\n",
    "\n",
    "#### EQN #4)  Manipulating equations 2 & 3 we have:\n",
    "\n",
    "\n",
    "$${x}_{+}{{\\vec{w}\\above 1pt\\|w\\|}}-{x}_{-}{{\\vec{w}\\above 1pt\\|w\\|}}==$$\n",
    "\n",
    "$${{(1-b\\above 1pt\\|w\\|}}  - {{(-1-b)\\above 1pt\\|w\\|}}$$\n",
    "\n",
    "We need to maximize the following in order to get our widest street: \n",
    "\n",
    " $$MAX  {{2\\above 1pt\\|w\\|}}$$\n",
    "\n",
    "We see that the width is inversely proportional to the length of the normal vector\n",
    "  \n",
    "##### EQN #5)  Lagrange Multipliers:\n",
    "If we want to find the maximum of a function (that has restraints), then we need to use a technique called: Lagrange Multipliers. \n",
    "Regarranging equation 4 and inserting our Lagrange Mulipliers (alpha) we have:\n",
    "\n",
    "  $$ L=  1/2{{\\|w\\|}^2} - \\sum \\alpha_i[(y_i(\\vec{w}\\cdot{x_i} +b)-1] $$\n",
    "  \n",
    "  \n",
    "####EQNs #6)   And how do we find maxima ?   Take the derivative \n",
    "- taking partial derivative of above (with respect to w), we find that :\n",
    "\n",
    "  $$\\vec{w} = \\sum \\alpha_i(y_i{x_i})$$\n",
    "  \n",
    "- And now we see that vector w is just a linear sum of our samples!\n",
    "\n",
    "- And taking partial derivative of above (with respect to b) we have:\n",
    "\n",
    "  $$ \\sum \\alpha_i(y_i)=0$$\n",
    "  \n",
    "- We discover that our optimization only depends on (what? )\n",
    " \n",
    "  $$ L= \\sum \\alpha_i -1/2\\sum\\sum\\alpha_i\\alpha_j(y_iy_j)(x_i\\cdot{x_j})$$\n",
    "  \n",
    "  \n",
    "- The Dot product of pairs of samples!\n",
    " \n",
    "####EQNs #7)   Our final Hyperplane Equation\n",
    "\n",
    "-  And now we see that our Decision Rule depends only on our sample vectors and u (the unknown vector) \n",
    " \n",
    "  $$ \\sum\\alpha_iy_i(x_i\\cdot\\vec{u}) + b \\geq\\ 0$$\n",
    "  \n",
    " Again, our solutions have total dependence on the Dot Products.\n",
    " \n",
    " It still doesn't seem possible that we can find a solution for the dataset above, using just the above equations .. right ?   \n",
    "\n",
    "Let's try a trivial example:"
   ]
  },
  {
   "cell_type": "markdown",
   "metadata": {},
   "source": [
    "### Trivial Example:\n",
    "\n",
    "- Lets take our 2 points from Figure 3.  These points are our support vectors\n",
    "- We would like to discover a simple SVM that accurately discriminates between \n",
    "our two classes.\n",
    "\n",
    " $ x_1= \\begin{bmatrix}5.4\\\\3\\end{bmatrix}$  (positive sample)\n",
    "\n",
    " $ x_2 =\\begin{bmatrix}5\\\\3\\end{bmatrix}$    (negative sample)\n",
    "\n",
    "In order to account for our bias input, we can adjust our vectors as follows:\n",
    "    \n",
    " $ {x_1}= \\begin{bmatrix}5.4\\\\3\\\\1\\end{bmatrix}$\n",
    " \n",
    " $ x_2 =\\begin{bmatrix}5\\\\3\\\\1\\end{bmatrix}$\n",
    " \n",
    " Using the structure we developed in our final EQN 7, we have:\n",
    " \n",
    "  $$\\alpha_1(x_1\\cdot(x_1)) + \\alpha_2(x_1\\cdot(x_2)) = +1 $$\n",
    "  $$\\alpha_1(x_1\\cdot(x_2)) + \\alpha_2(x_2\\cdot(x_2)) = -1 $$\n",
    "  \n",
    "  $$ (39.16)\\alpha_1 + (37)\\alpha_2 = +1 $$\n",
    "  $$ (37)\\alpha_1 + (35)\\alpha_2 = - 1 $$\n",
    "  \n",
    "  A little algebra will give us a solution to the system of equations:\n",
    "  \n",
    "  $$\\alpha_1= 2.18$$\n",
    "  $$\\alpha_2 =-1.25$$\n",
    "  \n",
    "  \n",
    "  Using EQN 6), we can find our hyperplane \n",
    "  \n",
    "  \n",
    "   $$\\vec{w} = \\sum \\alpha_i({x_i})$$\n",
    "   \n",
    "   =$$2.18\\begin{bmatrix}5.4\\\\3\\\\1\\end{bmatrix}  - 1.25\\begin{bmatrix}5\\\\3\\\\1\\end{bmatrix} =$$\n",
    "   \n",
    "   $$\\begin{bmatrix}5.522\\\\2.79\\\\.93 \\end{bmatrix}$$\n",
    "   \n",
    "   Alas, the above vector describes our separating hyperplane equation ( (with the last value as our bias)\n",
    "   \n",
    "   y = wx + b , where w = $$\\begin{bmatrix}5.522\\\\2.79\\end{bmatrix}$$\n",
    "   and b = 0.93\n",
    "   \n",
    "   \n",
    "   Finally: we can visualize our Hyperplane!\n",
    "   \n",
    "   <img src='img/iris_split4.png'/>"
   ]
  },
  {
   "cell_type": "markdown",
   "metadata": {},
   "source": [
    "### Thinking out loud: \n",
    "\n",
    "-  Which parameters determine our hyperplane ?\n",
    "\n",
    "-  What Support Vectors did we use ?\n",
    "\n",
    "-  What are the advantages of using few support vectors vs. many?\n",
    "\n",
    "-  Which hyperparameter will allow us to adjust our number of support vectors?\n",
    "\n",
    "-  How do you feel SVMs might behave in regards to outliers ? \n"
   ]
  },
  {
   "cell_type": "code",
   "execution_count": 1,
   "metadata": {
    "collapsed": false
   },
   "outputs": [
    {
     "name": "stdout",
     "output_type": "stream",
     "text": [
      "Populating the interactive namespace from numpy and matplotlib\n"
     ]
    }
   ],
   "source": [
    "% pylab inline"
   ]
  },
  {
   "cell_type": "code",
   "execution_count": 2,
   "metadata": {
    "collapsed": true
   },
   "outputs": [],
   "source": [
    "import pandas as pd\n",
    "from sklearn import datasets, svm\n",
    "import seaborn as sns"
   ]
  },
  {
   "cell_type": "code",
   "execution_count": null,
   "metadata": {
    "collapsed": false
   },
   "outputs": [],
   "source": []
  },
  {
   "cell_type": "code",
   "execution_count": 3,
   "metadata": {
    "collapsed": false
   },
   "outputs": [],
   "source": [
    "# In order gain more intuition about how we are splitting our grid: we'll build the plot_estimator \n",
    "\n",
    "def plot_estimator(estimator,X,y):\n",
    "    estimator.fit(X,y)\n",
    "    # ? \n",
    "    x_min, x_max =X[:,0].min() -1, X[:,0].max() +.1\n",
    "    y_min, y_max =X[:,1].min() -1, X[:,1].max() +.1\n",
    "    xx, yy =np.meshgrid(np.linspace(x_min, x_max, 100),\n",
    "                        np.linspace(y_min, y_max, 100))\n",
    "    \n",
    "    # perform classification on our samples\n",
    "    Z= estimator.predict(np.c_[xx.ravel(), yy.ravel()])\n",
    "                        \n",
    "    # Put the result into a color plot\n",
    "    Z=Z.reshape (xx.shape)\n",
    "    plt.figure(figsize=(12,12))\n",
    "    plt.pcolormesh(xx,yy, Z, cmap=plt.cm.Paired)\n",
    "                        \n",
    "    # Lets plot our sample points\n",
    "    plt.scatter(X[:,0], X[:,1], c=y)"
   ]
  },
  {
   "cell_type": "code",
   "execution_count": 4,
   "metadata": {
    "collapsed": false
   },
   "outputs": [
    {
     "data": {
      "text/plain": [
       "<matplotlib.collections.PathCollection at 0x1070c24d0>"
      ]
     },
     "execution_count": 4,
     "metadata": {},
     "output_type": "execute_result"
    },
    {
     "name": "stderr",
     "output_type": "stream",
     "text": [
      "/usr/local/lib/python2.7/site-packages/matplotlib/collections.py:571: FutureWarning: elementwise comparison failed; returning scalar instead, but in the future will perform elementwise comparison\n",
      "  if self._edgecolors == str('face'):\n"
     ]
    },
    {
     "data": {
      "image/png": "[encoded data removed]",
      "text/plain": [
       "<matplotlib.figure.Figure at 0x10a276cd0>"
      ]
     },
     "metadata": {},
     "output_type": "display_data"
    }
   ],
   "source": [
    "# Visualizing our Support Vectors and C (bias)\n",
    "\n",
    "# Note that svm.LinearSVC uses the one vs. all methodology \n",
    "# where SVC implements one vs one \n",
    "\n",
    "iris=datasets.load_iris()\n",
    "X=iris.data\n",
    "y=iris.target\n",
    "\n",
    "X=X[y !=2,:2] \n",
    "y = iris.target[y!=2]\n",
    "\n",
    "svc = svm.SVC(kernel='linear', C=1).fit(X, y)\n",
    "#svc = svm.LinearSVC(C=1).fit(X, y)\n",
    "plot_estimator(svc,X,y)\n",
    "# and then plot actually data points\n",
    "plt.scatter(svc.support_vectors_[:,0],svc.support_vectors_[:,1])"
   ]
  },
  {
   "cell_type": "markdown",
   "metadata": {},
   "source": [
    "### C ~ is a Regularization Parameter:\n",
    "- small C allows constraints to be easily ignored (large margin)\n",
    "- large C makes contraints difficult to ignore (narrow margin)"
   ]
  },
  {
   "cell_type": "markdown",
   "metadata": {},
   "source": [
    "### In Class: \n",
    "\n",
    "- Build a new model similiar to above, but with only classes 1 & 2 (in lieu of classes 0 and 1). \n",
    "\n",
    "- Keep your kernel 'linear', but adjust your C, what do you see?\n",
    "\n"
   ]
  },
  {
   "cell_type": "markdown",
   "metadata": {},
   "source": [
    "### Inseparable Data\n",
    "\n",
    "When no hyperplane can perfectly separate our data, what can we do?\n",
    "- We can allow some training examples to be misclassified\n",
    "- We can allow some examples to fall within the margin region\n",
    "\n",
    "Recall: for the separable case we have a decision rule of:\n",
    "$${y}_{i}(\\vec{w}\\cdot\\vec{x_+}+b)>=1$$ \n",
    "\n",
    "\n",
    "However, for the inseparable case, we 'relax' our constraints such that:\n",
    "$${y}_{i}(\\vec{w}\\cdot\\vec{x_+}+b)>=1 - \\epsilon_n$$\n",
    "\n",
    "$$  \\epsilon_n  =  slack variable $$\n",
    "\n",
    "And what we are trying to minimize becomes:\n",
    "\n",
    "$$1/2{{\\|w\\|}^2} + C\\sum\\epsilon_n$$\n",
    "\n",
    "\n",
    "- What happens when C is large ?   and small?\n",
    "\n",
    "\n",
    "\n",
    "\n",
    "\n"
   ]
  },
  {
   "cell_type": "markdown",
   "metadata": {
    "collapsed": false
   },
   "source": [
    "<img src='img/Slack.png'/>|\n",
    "\n",
    "\n",
    "What we see is that we now have (3) types of support vectors:\n",
    "\n",
    "- Those lying on the margins\n",
    "- Those in the margin  ( 0 < epsilon < 1)\n",
    "- Those lying on the wrong side of the margin (epsilon >= 1)\n",
    "\n",
    "We can see that our optimization is a balance of number of support vectors and C.\n",
    "\n",
    "- How can we relate this back to our knowlege of regularization from Lesson 08?"
   ]
  },
  {
   "cell_type": "markdown",
   "metadata": {},
   "source": [
    "## What Else can we do ?   The Kernel Trick.\n",
    "\n",
    "\n",
    "If we are stuck in a space that is not linearly separable: simply switch to a new space.\n",
    "\n",
    "What we need is a transformation (i.e. a Kernel!)\n",
    "\n",
    "Remember we said that our maximization only depends on dot products?\n",
    "Luckily, a kernel method is an algorithm that depends on data only through dot products.\n",
    "Our dot products can be replaced by a kernel function which computes a dot product in some (potentially) higher dimensional feature space.\n",
    "\n",
    "This allows us to generate a non-linear decision boundary (using methods that are designed for a linear class).   Further, this allows us to apply a classifier to data that would normally have no obvious dividing plane.\n",
    "\n",
    "Let's see what this actually looks like.. "
   ]
  },
  {
   "cell_type": "code",
   "execution_count": 5,
   "metadata": {
    "collapsed": false
   },
   "outputs": [
    {
     "name": "stdout",
     "output_type": "stream",
     "text": [
      "Percentage of '0' labels: 0.5\n",
      "Percentage of '1' labels: 0.5\n",
      "Projecting dataset to R^3\n"
     ]
    },
    {
     "data": {
      "image/png": "[encoded data removed]",
      "text/plain": [
       "<matplotlib.figure.Figure at 0x10a2962d0>"
      ]
     },
     "metadata": {},
     "output_type": "display_data"
    }
   ],
   "source": [
    "from math import sqrt\n",
    "from mpl_toolkits.mplot3d import Axes3D\n",
    "from sklearn.datasets import make_circles\n",
    "\n",
    "\n",
    "def fn_kernel(x1, x2):\n",
    "    \"\"\" Implements a kernel phi(x1,y1) = [x1, y1, x1^2 + y1^2] \"\"\"\n",
    "    return np.array([x1, x2, x1**2.0 + x2**2.0])\n",
    "\n",
    "\"\"\" Generate linearly nonseparable dataset (in R^2) \"\"\"\n",
    "    \n",
    "n = 200\n",
    "\n",
    "\n",
    "# make_circles: a simple binary dataset that allows to visualize clustering and clasification\n",
    "\n",
    "X, Y = make_circles(n_samples=n, noise=0.07, factor=0.4)\n",
    "\n",
    "A=X[Y==0]\n",
    "B=X[Y==1]\n",
    "\n",
    "# where X,Ys are in regards to our cartesian coordinate \n",
    "X0_orig=A[:,0]\n",
    "Y0_orig=A[:,1]\n",
    "\n",
    "X1_orig=B[:,0]\n",
    "Y1_orig=B[:,1]\n",
    "\n",
    "frac0=len(A)/float(len(Y))\n",
    "frac1=len(B)/float(len(Y))\n",
    "\n",
    "print \"Percentage of '0' labels:\", frac0\n",
    "print \"Percentage of '1' labels:\", frac1\n",
    "\n",
    "\n",
    "# What does zip function do?\n",
    "# Returns a list of tuples, where each tuple contains the ith element.. \n",
    "\n",
    "C= np.array([fn_kernel(x,y) for x,y in zip((X0_orig),(Y0_orig))])\n",
    "X0=C[:,0]\n",
    "Y0=C[:,1]\n",
    "Z0=C[:,2]\n",
    "\n",
    "D= np.array([fn_kernel(x,y) for x,y in zip((X1_orig),(Y1_orig))])\n",
    "X1=D[:,0]\n",
    "Y1=D[:,1]\n",
    "Z1=D[:,2]\n",
    "\n",
    "def plot_projection():    \n",
    "    fig = plt.figure(figsize=(8,15))\n",
    "    ax = fig.add_subplot(211, projection='3d')\n",
    "\n",
    "    ax.scatter(X0, Y0, Z0, c='r', marker='o')\n",
    "    ax.scatter(X1, Y1, Z1, c='b', marker='^')\n",
    "\n",
    "    ax.set_xlabel('X Label')\n",
    "    ax.set_ylabel('Y Label')\n",
    "    ax.set_zlabel('Z Label')\n",
    "    ax.set_title(\"Data in R^3 (separable)\")\n",
    "\n",
    "    # Project data to X/Y plane\n",
    "    ax2d = fig.add_subplot(212)\n",
    "    ax2d.scatter(X0, Y0, c='r', marker='o')\n",
    "    ax2d.scatter(X1, Y1, c='b', marker='^')\n",
    "\n",
    "    ax2d.set_xlabel('X Label')\n",
    "    ax2d.set_ylabel('Y Label')\n",
    "    ax2d.set_title(\"Data projected to R^2 (nonseparable)\")\n",
    "\n",
    "    plt.show()\n",
    "    \n",
    "def main():\n",
    "    \n",
    "    print 'Projecting dataset to R^3'\n",
    "    plot_projection()\n",
    "    \n",
    "if __name__ == '__main__':\n",
    "    main()"
   ]
  },
  {
   "cell_type": "markdown",
   "metadata": {},
   "source": [
    "### Different Types of Kernels\n",
    "\n",
    "- scikit-learn provides us with several types of Kernels to work with:\n",
    "\n",
    "1) 'linear' : Linear decision boundary\n",
    "    \n",
    "    \n",
    "- Good to use when: there is a clear separation of data or  # of features is large, and # of samples are  relatively small (can prevent overfitting)\n",
    "        \n",
    "    \n",
    "2) 'poly' : Polynomial decicion boundary (adjust the order via 'order' argument)\n",
    "    \n",
    "-  The implict feature space of a polynomial kernel is equivalent to that of a polynomial regression                  (except that we do not have to worry about the combinatorial blow-up thanks due to the sparse design of the support vectors)\n",
    "    \n",
    "3) 'rbf': Radial Basis Function decision boundary ( inserts Gaussian kernel at each support vector, we can adjust the Gaussian kernel via the Gamma Feature)\n",
    "    \n",
    "    \n",
    "- Good to use when # of samples is large and features relatively small "
   ]
  },
  {
   "cell_type": "markdown",
   "metadata": {},
   "source": [
    "### On Your Own\n",
    "    \n",
    "- Given the (3) of types of kernels above, and our previous model above, build & plot 3 new models.  Which do you think is ideal for our data ? \n",
    "\n",
    "- Experiment with each of the different features in the models ( adjust order (for poly) and adjust gamma for (rbf) as well as the C parameter.   "
   ]
  },
  {
   "cell_type": "markdown",
   "metadata": {},
   "source": [
    "###  On Your Own:  \n",
    "\n",
    "Using either the Iris data set or the following 'Adults' data set:\n",
    "\n",
    "https://archive.ics.uci.edu/ml/datasets/Adult\n",
    "\n",
    "- Split the data using using test train split (import helper module train_and_measure)\n",
    "- Create a dict. \n",
    "- Using a 'for' loop with each of the kernel types and params determine the best model using grid.best_score, grid.best_params \n",
    "- How do you score? \n",
    "\n",
    "- Challenge: plot your optimizations (parameters vs score)\n",
    "\n",
    "- Refer to scikit grid_score for guidance: \n",
    "http://scikit-learn.org/stable/auto_examples/grid_search_digits.html#example-grid-search-digits-py"
   ]
  },
  {
   "cell_type": "code",
   "execution_count": null,
   "metadata": {
    "collapsed": false
   },
   "outputs": [],
   "source": [
    "from sklearn.svm import SVC\n",
    "from sklearn.grid_search import GridSearchCV\n",
    "\n",
    "# develop your \"tuned parameters\"\n",
    "tuned_parameter = ? \n",
    "svc=SVC(kernel='linear')\n",
    "grid=GridSearchCV(svc,param_grid= tuned_parameters)\n",
    "grid.fit(X,y)\n",
    "\n"
   ]
  },
  {
   "cell_type": "markdown",
   "metadata": {
    "collapsed": false
   },
   "source": [
    "References:\n",
    "    \n",
    "    - SVMs :\n",
    "    http://www.robots.ox.ac.uk/~az/lectures/ml/lect3.pdf\n",
    "    \n",
    "    - More on Scikit Learn Scaling: \n",
    "    http://scikit-learn.org/stable/auto_examples/svm/plot_svm_scale_c.html\n",
    "    \n",
    "    - More on Slack variable and Loss function : \n",
    "    http://www.cs.utah.edu/~piyush/teaching/13-9-print.pdf"
   ]
  },
  {
   "cell_type": "code",
   "execution_count": 4,
   "metadata": {
    "collapsed": false
   },
   "outputs": [],
   "source": [
    "from sklearn.datasets import load_iris\n",
    "iris = load_iris()"
   ]
  },
  {
   "cell_type": "code",
   "execution_count": 5,
   "metadata": {
    "collapsed": true
   },
   "outputs": [],
   "source": [
    "X, y = iris.data, iris.target"
   ]
  },
  {
   "cell_type": "code",
   "execution_count": 10,
   "metadata": {
    "collapsed": false
   },
   "outputs": [
    {
     "data": {
      "text/plain": [
       "((150, 4), (150,))"
      ]
     },
     "execution_count": 10,
     "metadata": {},
     "output_type": "execute_result"
    }
   ],
   "source": [
    "X.shape, y.shape"
   ]
  },
  {
   "cell_type": "code",
   "execution_count": 24,
   "metadata": {
    "collapsed": true
   },
   "outputs": [],
   "source": [
    "X_test = [[ 5.0,  3.6,  1.3,  0.25]]"
   ]
  },
  {
   "cell_type": "code",
   "execution_count": 12,
   "metadata": {
    "collapsed": true
   },
   "outputs": [],
   "source": [
    "from sklearn.svm import LinearSVC\n",
    "model = LinearSVC()"
   ]
  },
  {
   "cell_type": "code",
   "execution_count": 18,
   "metadata": {
    "collapsed": false
   },
   "outputs": [],
   "source": [
    "fit_model = model.fit(X, y)"
   ]
  },
  {
   "cell_type": "code",
   "execution_count": 22,
   "metadata": {
    "collapsed": false
   },
   "outputs": [
    {
     "name": "stdout",
     "output_type": "stream",
     "text": [
      "coefficients [[ 0.18424158  0.45122681 -0.80794401 -0.45070911]\n",
      " [ 0.05250727 -0.89274683  0.40462362 -0.93804961]\n",
      " [-0.85072434 -0.98669066  1.38104836  1.86538558]]\n",
      "intercepts [ 0.10956154  1.6660596  -1.70950215]\n"
     ]
    }
   ],
   "source": [
    "print 'coefficients', fit_model.coef_\n",
    "print 'intercepts', fit_model.intercept_"
   ]
  },
  {
   "cell_type": "code",
   "execution_count": 25,
   "metadata": {
    "collapsed": false
   },
   "outputs": [
    {
     "data": {
      "text/plain": [
       "array([0])"
      ]
     },
     "execution_count": 25,
     "metadata": {},
     "output_type": "execute_result"
    }
   ],
   "source": [
    "fit_model.predict(X_test)"
   ]
  },
  {
   "cell_type": "code",
   "execution_count": 28,
   "metadata": {
    "collapsed": true
   },
   "outputs": [],
   "source": [
    "from sklearn.linear_model import LogisticRegression"
   ]
  },
  {
   "cell_type": "code",
   "execution_count": 29,
   "metadata": {
    "collapsed": false
   },
   "outputs": [],
   "source": [
    "clf2 = LogisticRegression().fit(X, y)"
   ]
  },
  {
   "cell_type": "code",
   "execution_count": 30,
   "metadata": {
    "collapsed": false
   },
   "outputs": [
    {
     "data": {
      "text/plain": [
       "array([0])"
      ]
     },
     "execution_count": 30,
     "metadata": {},
     "output_type": "execute_result"
    }
   ],
   "source": [
    "clf2.predict(X_test)"
   ]
  },
  {
   "cell_type": "code",
   "execution_count": 32,
   "metadata": {
    "collapsed": false
   },
   "outputs": [
    {
     "ename": "ImportError",
     "evalue": "cannot import name NeighborsClassifier",
     "output_type": "error",
     "traceback": [
      "\u001b[0;31m---------------------------------------------------------------------------\u001b[0m",
      "\u001b[0;31mImportError\u001b[0m                               Traceback (most recent call last)",
      "\u001b[0;32m<ipython-input-32-f5e0512c69df>\u001b[0m in \u001b[0;36m<module>\u001b[0;34m()\u001b[0m\n\u001b[0;32m----> 1\u001b[0;31m \u001b[0;32mfrom\u001b[0m \u001b[0msklearn\u001b[0m\u001b[0;34m.\u001b[0m\u001b[0mneighbors\u001b[0m \u001b[0;32mimport\u001b[0m \u001b[0mNeighborsClassifier\u001b[0m\u001b[0;34m\u001b[0m\u001b[0m\n\u001b[0m\u001b[1;32m      2\u001b[0m \u001b[0mmodel\u001b[0m \u001b[0;34m=\u001b[0m \u001b[0mNeighborsClassifier\u001b[0m\u001b[0;34m(\u001b[0m\u001b[0;34m)\u001b[0m\u001b[0;34m.\u001b[0m\u001b[0mfit\u001b[0m\u001b[0;34m(\u001b[0m\u001b[0mX\u001b[0m\u001b[0;34m,\u001b[0m\u001b[0my\u001b[0m\u001b[0;34m)\u001b[0m\u001b[0;34m\u001b[0m\u001b[0m\n",
      "\u001b[0;31mImportError\u001b[0m: cannot import name NeighborsClassifier"
     ]
    }
   ],
   "source": [
    "from sklearn.neighbors import NeighborsClassifier\n",
    "model = NeighborsClassifier().fit(X,y)"
   ]
  },
  {
   "cell_type": "code",
   "execution_count": null,
   "metadata": {
    "collapsed": true
   },
   "outputs": [],
   "source": []
  }
 ],
 "metadata": {
  "kernelspec": {
   "display_name": "Python 2",
   "language": "python",
   "name": "python2"
  },
  "language_info": {
   "codemirror_mode": {
    "name": "ipython",
    "version": 2
   },
   "file_extension": ".py",
   "mimetype": "text/x-python",
   "name": "python",
   "nbconvert_exporter": "python",
   "pygments_lexer": "ipython2",
   "version": "2.7.9"
  }
 },
 "nbformat": 4,
 "nbformat_minor": 0
}
