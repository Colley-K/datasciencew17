{
 "cells": [
  {
   "cell_type": "markdown",
   "metadata": {},
   "source": [
    "# Logistic Regression"
   ]
  },
  {
   "cell_type": "markdown",
   "metadata": {},
   "source": [
    "## Agenda\n",
    "\n",
    "1. Refresh your memory on how to do linear regression in scikit-learn\n",
    "2. Attempt to use linear regression for classification\n",
    "3. Show you why logistic regression is a better alternative for classification\n",
    "4. Brief overview of probability, odds, e, log, and log-odds\n",
    "5. Explain the form of logistic regression\n",
    "6. Explain how to interpret logistic regression coefficients\n",
    "7. Compare logistic regression with other models"
   ]
  },
  {
   "cell_type": "markdown",
   "metadata": {},
   "source": [
    "## Part 1: Predicting a Continuous Response"
   ]
  },
  {
   "cell_type": "code",
   "execution_count": 1,
   "metadata": {
    "collapsed": false
   },
   "outputs": [],
   "source": [
    "# glass identification dataset\n",
    "import pandas as pd\n",
    "url = 'http://archive.ics.uci.edu/ml/machine-learning-databases/glass/glass.data'\n",
    "col_names = ['id','ri','na','mg','al','si','k','ca','ba','fe','glass_type']\n",
    "glass = pd.read_csv(url, names=col_names, index_col='id')\n",
    "glass['assorted'] = glass.glass_type.map({1:0, 2:0, 3:0, 4:0, 5:1, 6:1, 7:1})"
   ]
  },
  {
   "cell_type": "code",
   "execution_count": 2,
   "metadata": {
    "collapsed": false
   },
   "outputs": [
    {
     "data": {
      "text/html": [
       "<div style=\"max-height:1000px;max-width:1500px;overflow:auto;\">\n",
       "<table border=\"1\" class=\"dataframe\">\n",
       "  <thead>\n",
       "    <tr style=\"text-align: right;\">\n",
       "      <th></th>\n",
       "      <th>ri</th>\n",
       "      <th>na</th>\n",
       "      <th>mg</th>\n",
       "      <th>al</th>\n",
       "      <th>si</th>\n",
       "      <th>k</th>\n",
       "      <th>ca</th>\n",
       "      <th>ba</th>\n",
       "      <th>fe</th>\n",
       "      <th>glass_type</th>\n",
       "      <th>assorted</th>\n",
       "    </tr>\n",
       "    <tr>\n",
       "      <th>id</th>\n",
       "      <th></th>\n",
       "      <th></th>\n",
       "      <th></th>\n",
       "      <th></th>\n",
       "      <th></th>\n",
       "      <th></th>\n",
       "      <th></th>\n",
       "      <th></th>\n",
       "      <th></th>\n",
       "      <th></th>\n",
       "      <th></th>\n",
       "    </tr>\n",
       "  </thead>\n",
       "  <tbody>\n",
       "    <tr>\n",
       "      <th>1</th>\n",
       "      <td> 1.52101</td>\n",
       "      <td> 13.64</td>\n",
       "      <td> 4.49</td>\n",
       "      <td> 1.10</td>\n",
       "      <td> 71.78</td>\n",
       "      <td> 0.06</td>\n",
       "      <td> 8.75</td>\n",
       "      <td> 0</td>\n",
       "      <td> 0</td>\n",
       "      <td> 1</td>\n",
       "      <td> 0</td>\n",
       "    </tr>\n",
       "    <tr>\n",
       "      <th>2</th>\n",
       "      <td> 1.51761</td>\n",
       "      <td> 13.89</td>\n",
       "      <td> 3.60</td>\n",
       "      <td> 1.36</td>\n",
       "      <td> 72.73</td>\n",
       "      <td> 0.48</td>\n",
       "      <td> 7.83</td>\n",
       "      <td> 0</td>\n",
       "      <td> 0</td>\n",
       "      <td> 1</td>\n",
       "      <td> 0</td>\n",
       "    </tr>\n",
       "    <tr>\n",
       "      <th>3</th>\n",
       "      <td> 1.51618</td>\n",
       "      <td> 13.53</td>\n",
       "      <td> 3.55</td>\n",
       "      <td> 1.54</td>\n",
       "      <td> 72.99</td>\n",
       "      <td> 0.39</td>\n",
       "      <td> 7.78</td>\n",
       "      <td> 0</td>\n",
       "      <td> 0</td>\n",
       "      <td> 1</td>\n",
       "      <td> 0</td>\n",
       "    </tr>\n",
       "    <tr>\n",
       "      <th>4</th>\n",
       "      <td> 1.51766</td>\n",
       "      <td> 13.21</td>\n",
       "      <td> 3.69</td>\n",
       "      <td> 1.29</td>\n",
       "      <td> 72.61</td>\n",
       "      <td> 0.57</td>\n",
       "      <td> 8.22</td>\n",
       "      <td> 0</td>\n",
       "      <td> 0</td>\n",
       "      <td> 1</td>\n",
       "      <td> 0</td>\n",
       "    </tr>\n",
       "    <tr>\n",
       "      <th>5</th>\n",
       "      <td> 1.51742</td>\n",
       "      <td> 13.27</td>\n",
       "      <td> 3.62</td>\n",
       "      <td> 1.24</td>\n",
       "      <td> 73.08</td>\n",
       "      <td> 0.55</td>\n",
       "      <td> 8.07</td>\n",
       "      <td> 0</td>\n",
       "      <td> 0</td>\n",
       "      <td> 1</td>\n",
       "      <td> 0</td>\n",
       "    </tr>\n",
       "  </tbody>\n",
       "</table>\n",
       "</div>"
      ],
      "text/plain": [
       "         ri     na    mg    al     si     k    ca  ba  fe  glass_type  \\\n",
       "id                                                                      \n",
       "1   1.52101  13.64  4.49  1.10  71.78  0.06  8.75   0   0           1   \n",
       "2   1.51761  13.89  3.60  1.36  72.73  0.48  7.83   0   0           1   \n",
       "3   1.51618  13.53  3.55  1.54  72.99  0.39  7.78   0   0           1   \n",
       "4   1.51766  13.21  3.69  1.29  72.61  0.57  8.22   0   0           1   \n",
       "5   1.51742  13.27  3.62  1.24  73.08  0.55  8.07   0   0           1   \n",
       "\n",
       "    assorted  \n",
       "id            \n",
       "1          0  \n",
       "2          0  \n",
       "3          0  \n",
       "4          0  \n",
       "5          0  "
      ]
     },
     "execution_count": 2,
     "metadata": {},
     "output_type": "execute_result"
    }
   ],
   "source": [
    "glass.head()"
   ]
  },
  {
   "cell_type": "markdown",
   "metadata": {},
   "source": [
    "Pretend that we want to predict **ri**, and our only feature is **al**. How would we do it using machine learning? We would frame it as a regression problem, and use a linear regression model with **al** as the only feature and **ri** as the response.\n",
    "\n",
    "How would we **visualize** this model? Create a scatter plot with **al** on the x-axis and **ri** on the y-axis, and draw the line of best fit."
   ]
  },
  {
   "cell_type": "code",
   "execution_count": 3,
   "metadata": {
    "collapsed": false
   },
   "outputs": [],
   "source": [
    "import seaborn as sns\n",
    "import matplotlib.pyplot as plt\n",
    "%matplotlib inline"
   ]
  },
  {
   "cell_type": "code",
   "execution_count": 4,
   "metadata": {
    "collapsed": false
   },
   "outputs": [
    {
     "data": {
      "text/plain": [
       "<seaborn.axisgrid.FacetGrid at 0x107c88690>"
      ]
     },
     "execution_count": 4,
     "metadata": {},
     "output_type": "execute_result"
    },
    {
     "name": "stderr",
     "output_type": "stream",
     "text": [
      "/usr/local/lib/python2.7/site-packages/matplotlib/collections.py:571: FutureWarning: elementwise comparison failed; returning scalar instead, but in the future will perform elementwise comparison\n",
      "  if self._edgecolors == str('face'):\n"
     ]
    },
    {
     "data": {
      "image/png": "[encoded data removed]",
      "text/plain": [
       "<matplotlib.figure.Figure at 0x10c69d590>"
      ]
     },
     "metadata": {},
     "output_type": "display_data"
    }
   ],
   "source": [
    "sns.lmplot(x='al', y='ri', data=glass, ci=None)"
   ]
  },
  {
   "cell_type": "markdown",
   "metadata": {},
   "source": [
    "If we had an **al** value of 2, what would we predict for **ri**? Roughly 1.517.\n",
    "\n"
   ]
  },
  {
   "cell_type": "code",
   "execution_count": 5,
   "metadata": {
    "collapsed": false
   },
   "outputs": [
    {
     "data": {
      "text/plain": [
       "<matplotlib.axes._subplots.AxesSubplot at 0x10c780990>"
      ]
     },
     "execution_count": 5,
     "metadata": {},
     "output_type": "execute_result"
    },
    {
     "data": {
      "image/png": "[encoded data removed]",
      "text/plain": [
       "<matplotlib.figure.Figure at 0x10c7dc5d0>"
      ]
     },
     "metadata": {},
     "output_type": "display_data"
    }
   ],
   "source": [
    "# Exercise: Draw the scatter plot using Pandas.\n",
    "\n",
    "\n",
    "\n",
    "\n",
    "\n",
    "\n",
    "\n",
    "\n",
    "\n",
    "\n",
    "\n",
    "\n",
    "\n",
    "\n",
    "\n",
    "\n",
    "# scatter plot using Pandas\n",
    "glass.plot(kind='scatter', x='al', y='ri')"
   ]
  },
  {
   "cell_type": "code",
   "execution_count": null,
   "metadata": {
    "collapsed": false
   },
   "outputs": [],
   "source": []
  },
  {
   "cell_type": "code",
   "execution_count": 6,
   "metadata": {
    "collapsed": false
   },
   "outputs": [
    {
     "data": {
      "text/plain": [
       "LinearRegression(copy_X=True, fit_intercept=True, normalize=False)"
      ]
     },
     "execution_count": 6,
     "metadata": {},
     "output_type": "execute_result"
    }
   ],
   "source": [
    "# fit a linear regression model to predict ri from al\n",
    "from sklearn.linear_model import LinearRegression\n",
    "linreg = LinearRegression()\n",
    "feature_cols = ['al']\n",
    "X = glass[feature_cols]\n",
    "y = glass.ri\n",
    "linreg.fit(X, y)"
   ]
  },
  {
   "cell_type": "code",
   "execution_count": 7,
   "metadata": {
    "collapsed": false
   },
   "outputs": [
    {
     "name": "stdout",
     "output_type": "stream",
     "text": [
      "1.52194533024\n",
      "[-0.00247761]\n"
     ]
    }
   ],
   "source": [
    "# look at the coefficients to get the equation for the line, but then how do you plot the line?\n",
    "print linreg.intercept_\n",
    "print linreg.coef_"
   ]
  },
  {
   "cell_type": "code",
   "execution_count": 8,
   "metadata": {
    "collapsed": false
   },
   "outputs": [
    {
     "name": "stdout",
     "output_type": "stream",
     "text": [
      "[ 1.51946772]\n",
      "[ 1.51699012]\n",
      "[ 1.51451251]\n"
     ]
    }
   ],
   "source": [
    "# you could make predictions for arbitrary points, and then plot a line connecting them\n",
    "print linreg.predict(1)\n",
    "print linreg.predict(2)\n",
    "print linreg.predict(3)"
   ]
  },
  {
   "cell_type": "code",
   "execution_count": 9,
   "metadata": {
    "collapsed": false
   },
   "outputs": [
    {
     "data": {
      "text/plain": [
       "[<matplotlib.lines.Line2D at 0x10ce814d0>]"
      ]
     },
     "execution_count": 9,
     "metadata": {},
     "output_type": "execute_result"
    },
    {
     "data": {
      "image/png": "[encoded data removed]",
      "text/plain": [
       "<matplotlib.figure.Figure at 0x10ce816d0>"
      ]
     },
     "metadata": {},
     "output_type": "display_data"
    }
   ],
   "source": [
    "# or you could make predictions for all values of X, and then plot those predictions connected by a line\n",
    "ri_pred = linreg.predict(X)\n",
    "\n",
    "# draw regression line with matplotlib and pandas\n",
    "plt.scatter(glass.al, glass.ri)\n",
    "plt.plot(glass.al, ri_pred, color='red')"
   ]
  },
  {
   "cell_type": "code",
   "execution_count": null,
   "metadata": {
    "collapsed": false
   },
   "outputs": [],
   "source": []
  },
  {
   "cell_type": "markdown",
   "metadata": {},
   "source": [
    "### Refresher: interpreting linear regression coefficients"
   ]
  },
  {
   "cell_type": "markdown",
   "metadata": {},
   "source": [
    "Linear regression equation: $y = \\beta_0 + \\beta_1x$"
   ]
  },
  {
   "cell_type": "code",
   "execution_count": null,
   "metadata": {
    "collapsed": false
   },
   "outputs": [],
   "source": []
  },
  {
   "cell_type": "code",
   "execution_count": 10,
   "metadata": {
    "collapsed": false
   },
   "outputs": [
    {
     "data": {
      "text/plain": [
       "array([ 1.51699012])"
      ]
     },
     "execution_count": 10,
     "metadata": {},
     "output_type": "execute_result"
    }
   ],
   "source": [
    "# compute prediction for al=2 using the predict method\n",
    "linreg.predict(2)"
   ]
  },
  {
   "cell_type": "code",
   "execution_count": 11,
   "metadata": {
    "collapsed": false
   },
   "outputs": [
    {
     "data": {
      "text/html": [
       "<div style=\"max-height:1000px;max-width:1500px;overflow:auto;\">\n",
       "<table border=\"1\" class=\"dataframe\">\n",
       "  <thead>\n",
       "    <tr style=\"text-align: right;\">\n",
       "      <th></th>\n",
       "      <th>feature</th>\n",
       "      <th>coef</th>\n",
       "    </tr>\n",
       "  </thead>\n",
       "  <tbody>\n",
       "    <tr>\n",
       "      <th>0</th>\n",
       "      <td> al</td>\n",
       "      <td>-0.002478</td>\n",
       "    </tr>\n",
       "  </tbody>\n",
       "</table>\n",
       "</div>"
      ],
      "text/plain": [
       "  feature      coef\n",
       "0      al -0.002478"
      ]
     },
     "execution_count": 11,
     "metadata": {},
     "output_type": "execute_result"
    }
   ],
   "source": [
    "# examine coefficient for al\n",
    "pd.DataFrame(zip(feature_cols, linreg.coef_), columns=['feature', 'coef'])"
   ]
  },
  {
   "cell_type": "code",
   "execution_count": null,
   "metadata": {
    "collapsed": true
   },
   "outputs": [],
   "source": [
    "# Note that we can't use a cross_val_score if we want to investigate variable relationships"
   ]
  },
  {
   "cell_type": "markdown",
   "metadata": {},
   "source": [
    "**Interpretation:** A 1 unit increase in 'al' is associated with a 0.0025 unit decrease in 'ri'."
   ]
  },
  {
   "cell_type": "code",
   "execution_count": 12,
   "metadata": {
    "collapsed": false
   },
   "outputs": [
    {
     "data": {
      "text/plain": [
       "array([ 1.51451251])"
      ]
     },
     "execution_count": 12,
     "metadata": {},
     "output_type": "execute_result"
    }
   ],
   "source": [
    "# compute prediction for al=3 using the predict method\n",
    "linreg.predict(3)"
   ]
  },
  {
   "cell_type": "code",
   "execution_count": null,
   "metadata": {
    "collapsed": false
   },
   "outputs": [],
   "source": []
  },
  {
   "cell_type": "markdown",
   "metadata": {},
   "source": [
    "## Part 2: Predicting a Categorical Response"
   ]
  },
  {
   "cell_type": "markdown",
   "metadata": {},
   "source": [
    "Let's change our task, so that we're predicting **assorted** using **al**. Let's visualize the relationship to figure out how to do this:"
   ]
  },
  {
   "cell_type": "code",
   "execution_count": 13,
   "metadata": {
    "collapsed": false
   },
   "outputs": [
    {
     "data": {
      "text/plain": [
       "<matplotlib.collections.PathCollection at 0x10cf8e150>"
      ]
     },
     "execution_count": 13,
     "metadata": {},
     "output_type": "execute_result"
    },
    {
     "data": {
      "image/png": "[encoded data removed]",
      "text/plain": [
       "<matplotlib.figure.Figure at 0x10cf71e50>"
      ]
     },
     "metadata": {},
     "output_type": "display_data"
    }
   ],
   "source": [
    "plt.scatter(glass.al, glass.assorted)"
   ]
  },
  {
   "cell_type": "markdown",
   "metadata": {},
   "source": [
    "Let's draw a **regression line**, like we did before:"
   ]
  },
  {
   "cell_type": "code",
   "execution_count": 14,
   "metadata": {
    "collapsed": false
   },
   "outputs": [],
   "source": [
    "# fit a linear regression model and store the predictions\n",
    "feature_cols = ['al']\n",
    "X = glass[feature_cols]\n",
    "y = glass.assorted\n",
    "linreg.fit(X, y)\n",
    "assorted_pred = linreg.predict(X)"
   ]
  },
  {
   "cell_type": "code",
   "execution_count": 15,
   "metadata": {
    "collapsed": false
   },
   "outputs": [
    {
     "data": {
      "text/plain": [
       "[<matplotlib.lines.Line2D at 0x10cfa4650>]"
      ]
     },
     "execution_count": 15,
     "metadata": {},
     "output_type": "execute_result"
    },
    {
     "data": {
      "image/png": "[encoded data removed]",
      "text/plain": [
       "<matplotlib.figure.Figure at 0x10c969050>"
      ]
     },
     "metadata": {},
     "output_type": "display_data"
    }
   ],
   "source": [
    "# scatter plot that includes the regression line\n",
    "plt.scatter(glass.al, glass.assorted)\n",
    "plt.plot(glass.al, assorted_pred, color='red')"
   ]
  },
  {
   "cell_type": "markdown",
   "metadata": {},
   "source": [
    "If **al=3**, what class do we predict for assorted? **1**\n",
    "\n",
    "If **al=1.5**, what class do we predict for assorted? **0**\n",
    "\n",
    "So, we predict the 0 class for **lower** values of al, and the 1 class for **higher** values of al. What's our cutoff value? Around **al=2**, because that's where the linear regression line crosses the midpoint between predicting class 0 and class 1.\n",
    "\n",
    "So, we'll say that if **assorted_pred >= 0.5**, we predict a class of **1**, else we predict a class of **0**."
   ]
  },
  {
   "cell_type": "code",
   "execution_count": 16,
   "metadata": {
    "collapsed": false
   },
   "outputs": [],
   "source": [
    "# understanding np.where\n",
    "import numpy as np\n",
    "nums = np.array([5, 15, 8])"
   ]
  },
  {
   "cell_type": "code",
   "execution_count": 17,
   "metadata": {
    "collapsed": false
   },
   "outputs": [
    {
     "data": {
      "text/plain": [
       "array(['small', 'big', 'small'], \n",
       "      dtype='|S5')"
      ]
     },
     "execution_count": 17,
     "metadata": {},
     "output_type": "execute_result"
    }
   ],
   "source": [
    "# np.where returns the first value if the condition is True, and the second value if the condition is False\n",
    "np.where(nums > 10, 'big', 'small')"
   ]
  },
  {
   "cell_type": "code",
   "execution_count": 18,
   "metadata": {
    "collapsed": false
   },
   "outputs": [
    {
     "data": {
      "text/plain": [
       "array([ 0.06545853,  0.19576455,  0.28597641,  0.16068216,  0.13562331,\n",
       "        0.32607057,  0.08550561,  0.04039968,  0.20077632,  0.19576455])"
      ]
     },
     "execution_count": 18,
     "metadata": {},
     "output_type": "execute_result"
    }
   ],
   "source": [
    "# examine the predictions\n",
    "assorted_pred[:10]"
   ]
  },
  {
   "cell_type": "code",
   "execution_count": 19,
   "metadata": {
    "collapsed": false
   },
   "outputs": [
    {
     "data": {
      "text/plain": [
       "array([0, 0, 0, 0, 0, 0, 0, 0, 0, 0, 0, 0, 0, 0, 0, 0, 0, 0, 0, 0, 0, 0, 0,\n",
       "       0, 0, 0, 0, 0, 0, 0, 0, 0, 0, 0, 0, 0, 0, 0, 0, 0, 0, 0, 0, 0, 0, 0,\n",
       "       0, 0, 0, 0, 0, 0, 0, 0, 0, 0, 0, 0, 0, 0, 0, 0, 0, 0, 0, 0, 0, 0, 0,\n",
       "       0, 0, 0, 0, 0, 0, 0, 0, 0, 0, 0, 1, 0, 0, 0, 1, 0, 0, 0, 0, 0, 0, 0,\n",
       "       0, 0, 0, 0, 0, 0, 0, 0, 0, 0, 0, 0, 0, 0, 1, 0, 0, 0, 0, 0, 0, 0, 0,\n",
       "       0, 0, 0, 0, 0, 0, 0, 0, 0, 0, 0, 0, 0, 0, 0, 0, 0, 0, 0, 0, 0, 0, 0,\n",
       "       0, 0, 0, 0, 0, 0, 0, 0, 0, 0, 0, 0, 0, 0, 0, 0, 0, 0, 0, 0, 0, 0, 0,\n",
       "       0, 0, 1, 0, 0, 0, 0, 0, 0, 0, 1, 1, 0, 1, 0, 0, 0, 0, 0, 0, 0, 1, 0,\n",
       "       0, 0, 1, 0, 1, 0, 0, 1, 1, 1, 1, 1, 1, 1, 1, 1, 1, 0, 1, 1, 1, 0, 0,\n",
       "       0, 1, 1, 1, 1, 0, 1])"
      ]
     },
     "execution_count": 19,
     "metadata": {},
     "output_type": "execute_result"
    }
   ],
   "source": [
    "# transform predictions to 1 or 0\n",
    "assorted_pred_class = np.where(assorted_pred >= 0.5, 1, 0)\n",
    "assorted_pred_class"
   ]
  },
  {
   "cell_type": "code",
   "execution_count": 20,
   "metadata": {
    "collapsed": false
   },
   "outputs": [
    {
     "data": {
      "text/plain": [
       "[<matplotlib.lines.Line2D at 0x10d1fda90>]"
      ]
     },
     "execution_count": 20,
     "metadata": {},
     "output_type": "execute_result"
    },
    {
     "data": {
      "image/png": "[encoded data removed]",
      "text/plain": [
       "<matplotlib.figure.Figure at 0x10cff5690>"
      ]
     },
     "metadata": {},
     "output_type": "display_data"
    }
   ],
   "source": [
    "# plot the class predictions\n",
    "plt.scatter(glass.al, glass.assorted)\n",
    "plt.plot(glass.al, assorted_pred_class, color='red')"
   ]
  },
  {
   "cell_type": "markdown",
   "metadata": {},
   "source": [
    "What went wrong? This is a line plot, and it connects points in the order they are found. Let's sort the DataFrame by \"al\" to fix this:"
   ]
  },
  {
   "cell_type": "code",
   "execution_count": 21,
   "metadata": {
    "collapsed": false
   },
   "outputs": [],
   "source": [
    "# add predicted class to DataFrame\n",
    "glass['assorted_pred_class'] = assorted_pred_class\n",
    "\n",
    "# sort DataFrame by al\n",
    "glass.sort('al', inplace=True)"
   ]
  },
  {
   "cell_type": "code",
   "execution_count": 22,
   "metadata": {
    "collapsed": false
   },
   "outputs": [
    {
     "data": {
      "text/plain": [
       "[<matplotlib.lines.Line2D at 0x10d425150>]"
      ]
     },
     "execution_count": 22,
     "metadata": {},
     "output_type": "execute_result"
    },
    {
     "data": {
      "image/png": "[encoded data removed]",
      "text/plain": [
       "<matplotlib.figure.Figure at 0x10d41cfd0>"
      ]
     },
     "metadata": {},
     "output_type": "display_data"
    }
   ],
   "source": [
    "# plot the class predictions again\n",
    "plt.scatter(glass.al, glass.assorted)\n",
    "plt.plot(glass.al, glass.assorted_pred_class, color='red')"
   ]
  },
  {
   "cell_type": "markdown",
   "metadata": {},
   "source": [
    "## Part 3: Using Logistic Regression Instead\n",
    "\n",
    "Logistic regression can do what we just did, but better.."
   ]
  },
  {
   "cell_type": "code",
   "execution_count": 23,
   "metadata": {
    "collapsed": false
   },
   "outputs": [],
   "source": [
    "# fit a linear regression model and store the class predictions\n",
    "from sklearn.linear_model import LogisticRegression\n",
    "logreg = LogisticRegression()\n",
    "feature_cols = ['al']\n",
    "X = glass[feature_cols]\n",
    "y = glass.assorted\n",
    "logreg.fit(X, y)\n",
    "assorted_pred_class = logreg.predict(X)"
   ]
  },
  {
   "cell_type": "code",
   "execution_count": 24,
   "metadata": {
    "collapsed": false
   },
   "outputs": [
    {
     "data": {
      "text/plain": [
       "array([0, 0, 0, 0, 0, 0, 0, 0, 0, 0, 0, 0, 0, 0, 0, 0, 0, 0, 0, 0, 0, 0, 0,\n",
       "       0, 0, 0, 0, 0, 0, 0, 0, 0, 0, 0, 0, 0, 0, 0, 0, 0, 0, 0, 0, 0, 0, 0,\n",
       "       0, 0, 0, 0, 0, 0, 0, 0, 0, 0, 0, 0, 0, 0, 0, 0, 0, 0, 0, 0, 0, 0, 0,\n",
       "       0, 0, 0, 0, 0, 0, 0, 0, 0, 0, 0, 0, 0, 0, 0, 0, 0, 0, 0, 0, 0, 0, 0,\n",
       "       0, 0, 0, 0, 0, 0, 0, 0, 0, 0, 0, 0, 0, 0, 0, 0, 0, 0, 0, 0, 0, 0, 0,\n",
       "       0, 0, 0, 0, 0, 0, 0, 0, 0, 0, 0, 0, 0, 0, 0, 0, 0, 0, 0, 0, 0, 0, 0,\n",
       "       0, 0, 0, 0, 0, 0, 0, 0, 0, 0, 0, 0, 0, 0, 0, 0, 0, 0, 0, 0, 0, 0, 0,\n",
       "       0, 0, 0, 0, 0, 0, 0, 0, 0, 0, 0, 0, 0, 0, 0, 0, 0, 0, 0, 0, 0, 0, 0,\n",
       "       0, 0, 0, 0, 0, 0, 0, 1, 1, 1, 1, 1, 1, 1, 1, 1, 1, 1, 1, 1, 1, 1, 1,\n",
       "       1, 1, 1, 1, 1, 1, 1])"
      ]
     },
     "execution_count": 24,
     "metadata": {},
     "output_type": "execute_result"
    }
   ],
   "source": [
    "# print the class predictions\n",
    "assorted_pred_class"
   ]
  },
  {
   "cell_type": "code",
   "execution_count": 25,
   "metadata": {
    "collapsed": false
   },
   "outputs": [
    {
     "data": {
      "text/plain": [
       "[<matplotlib.lines.Line2D at 0x10d59db50>]"
      ]
     },
     "execution_count": 25,
     "metadata": {},
     "output_type": "execute_result"
    },
    {
     "data": {
      "image/png": "[encoded data removed]",
      "text/plain": [
       "<matplotlib.figure.Figure at 0x10cf9bf10>"
      ]
     },
     "metadata": {},
     "output_type": "display_data"
    }
   ],
   "source": [
    "# plot the class predictions\n",
    "plt.scatter(glass.al, glass.assorted)\n",
    "plt.plot(glass.al, assorted_pred_class, color='red')"
   ]
  },
  {
   "cell_type": "markdown",
   "metadata": {},
   "source": [
    "What if we wanted the **predicted probabilities** instead of just the **class predictions**, to understand how confident we are in a given prediction?"
   ]
  },
  {
   "cell_type": "code",
   "execution_count": 29,
   "metadata": {
    "collapsed": false
   },
   "outputs": [
    {
     "name": "stdout",
     "output_type": "stream",
     "text": [
      "[ 0.02806625  0.03094319  0.03982038  0.03982038  0.0430124   0.04734677\n",
      "  0.04734677  0.04919427  0.05621243  0.05728888  0.05838467  0.06296723\n",
      "  0.06416424  0.06788354  0.06788354  0.07047312  0.07180189  0.07315374\n",
      "  0.07735104  0.0787985   0.0787985   0.08483896  0.08483896  0.08641341\n",
      "  0.08801427  0.08964188  0.08964188  0.09129657  0.10746348  0.10746348\n",
      "  0.11749519  0.11959648  0.12173017  0.12389656  0.12832872  0.13059509\n",
      "  0.13059509  0.13059509  0.13289538  0.13289538  0.13289538  0.13759889\n",
      "  0.13759889  0.14000267  0.14000267  0.14244152  0.14244152  0.14491569\n",
      "  0.14491569  0.14742545  0.14742545  0.14742545  0.14997105  0.14997105\n",
      "  0.14997105  0.14997105  0.14997105  0.14997105  0.15255274  0.15517077\n",
      "  0.15517077  0.15782535  0.16051672  0.16051672  0.16051672  0.16051672\n",
      "  0.16051672  0.16324508  0.16324508  0.16601065  0.16601065  0.16601065\n",
      "  0.16881363  0.16881363  0.16881363  0.17165418  0.17165418  0.17165418\n",
      "  0.1745325   0.1745325   0.1745325   0.1745325   0.17744874  0.17744874\n",
      "  0.17744874  0.17744874  0.17744874  0.18040306  0.18040306  0.1833956\n",
      "  0.1833956   0.1833956   0.18642649  0.18642649  0.18642649  0.18949584\n",
      "  0.18949584  0.18949584  0.19260377  0.19260377  0.19575036  0.19575036\n",
      "  0.19575036  0.19575036  0.19893569  0.19893569  0.19893569  0.19893569\n",
      "  0.20215982  0.2054228   0.2054228   0.21206546  0.21206546  0.21544516\n",
      "  0.21544516  0.22232122  0.22232122  0.22232122  0.22232122  0.22232122\n",
      "  0.22581752  0.22581752  0.22935259  0.23653869  0.23653869  0.23653869\n",
      "  0.24018952  0.24018952  0.2438787   0.2438787   0.2438787   0.25137149\n",
      "  0.25137149  0.25517474  0.25517474  0.25517474  0.25901562  0.26289391\n",
      "  0.26289391  0.26289391  0.26289391  0.26289391  0.26289391  0.26289391\n",
      "  0.26289391  0.26680936  0.2707617   0.2707617   0.2707617   0.2707617\n",
      "  0.2707617   0.27475065  0.27475065  0.27877591  0.27877591  0.2910661\n",
      "  0.29523308  0.29523308  0.29523308  0.29943452  0.29943452  0.29943452\n",
      "  0.30366998  0.30793903  0.31224117  0.31657593  0.32534119  0.33423046\n",
      "  0.33423046  0.34778652  0.34778652  0.35696458  0.35696458  0.37092898\n",
      "  0.37092898  0.37563349  0.3803616   0.3803616   0.3851125   0.38988542\n",
      "  0.4043279   0.40918048  0.40918048  0.41405082  0.42384118  0.44359489\n",
      "  0.46352858  0.46853281  0.46853281  0.47354338  0.4835795   0.50368344\n",
      "  0.51373501  0.51373501  0.51875713  0.52377547  0.53379676  0.55871363\n",
      "  0.58333828  0.59792395  0.607554    0.64056368  0.65886742  0.6767095\n",
      "  0.71497689  0.72711014  0.77229727  0.77929255  0.79934536  0.81498871\n",
      "  0.8407403   0.87493165  0.87926679  0.94836604]\n"
     ]
    }
   ],
   "source": [
    "# store the predicted probabilites of class 1\n",
    "assorted_pred_prob = logreg.predict_proba(X)[:, 1]\n",
    "print assorted_pred_prob"
   ]
  },
  {
   "cell_type": "code",
   "execution_count": 27,
   "metadata": {
    "collapsed": false
   },
   "outputs": [
    {
     "data": {
      "text/plain": [
       "[<matplotlib.lines.Line2D at 0x10d65b4d0>]"
      ]
     },
     "execution_count": 27,
     "metadata": {},
     "output_type": "execute_result"
    },
    {
     "data": {
      "image/png": "[encoded data removed]",
      "text/plain": [
       "<matplotlib.figure.Figure at 0x10cfa4f10>"
      ]
     },
     "metadata": {},
     "output_type": "display_data"
    }
   ],
   "source": [
    "# plot the predicted probabilities\n",
    "plt.scatter(glass.al, glass.assorted)\n",
    "plt.plot(glass.al, assorted_pred_prob, color='red')"
   ]
  },
  {
   "cell_type": "code",
   "execution_count": 30,
   "metadata": {
    "collapsed": false
   },
   "outputs": [
    {
     "name": "stdout",
     "output_type": "stream",
     "text": [
      "[[ 0.89253652  0.10746348]]\n",
      "[[ 0.52645662  0.47354338]]\n",
      "[[ 0.12953623  0.87046377]]\n"
     ]
    }
   ],
   "source": [
    "# examine some example predictions\n",
    "print logreg.predict_proba(1)\n",
    "print logreg.predict_proba(2)\n",
    "print logreg.predict_proba(3)"
   ]
  },
  {
   "cell_type": "markdown",
   "metadata": {},
   "source": [
    "What is this? The first column indicates the predicted probability of **class 0**, and the second column indicates the predicted probability of **class 1**."
   ]
  },
  {
   "cell_type": "markdown",
   "metadata": {},
   "source": [
    "## Part 4: Probability, odds, e, log, log-odds\n",
    "\n",
    "$$probability = \\frac {one\\ outcome} {all\\ outcomes}$$\n",
    "\n",
    "$$odds = \\frac {one\\ outcome} {all\\ other\\ outcomes}$$\n",
    "\n",
    "Examples:\n",
    "\n",
    "- Dice roll of 1: probability = 1/6, odds = 1/5\n",
    "- Even dice roll: probability = 3/6, odds = 3/3 = 1\n",
    "- Dice roll less than 5: probability = 4/6, odds = 4/2 = 2\n",
    "\n",
    "$$odds = \\frac {probability} {1 - probability}$$"
   ]
  },
  {
   "cell_type": "code",
   "execution_count": 31,
   "metadata": {
    "collapsed": false
   },
   "outputs": [
    {
     "data": {
      "text/html": [
       "<div style=\"max-height:1000px;max-width:1500px;overflow:auto;\">\n",
       "<table border=\"1\" class=\"dataframe\">\n",
       "  <thead>\n",
       "    <tr style=\"text-align: right;\">\n",
       "      <th></th>\n",
       "      <th>probability</th>\n",
       "      <th>odds</th>\n",
       "    </tr>\n",
       "  </thead>\n",
       "  <tbody>\n",
       "    <tr>\n",
       "      <th>0</th>\n",
       "      <td> 0.10</td>\n",
       "      <td> 0.111111</td>\n",
       "    </tr>\n",
       "    <tr>\n",
       "      <th>1</th>\n",
       "      <td> 0.20</td>\n",
       "      <td> 0.250000</td>\n",
       "    </tr>\n",
       "    <tr>\n",
       "      <th>2</th>\n",
       "      <td> 0.25</td>\n",
       "      <td> 0.333333</td>\n",
       "    </tr>\n",
       "    <tr>\n",
       "      <th>3</th>\n",
       "      <td> 0.50</td>\n",
       "      <td> 1.000000</td>\n",
       "    </tr>\n",
       "    <tr>\n",
       "      <th>4</th>\n",
       "      <td> 0.60</td>\n",
       "      <td> 1.500000</td>\n",
       "    </tr>\n",
       "    <tr>\n",
       "      <th>5</th>\n",
       "      <td> 0.80</td>\n",
       "      <td> 4.000000</td>\n",
       "    </tr>\n",
       "    <tr>\n",
       "      <th>6</th>\n",
       "      <td> 0.90</td>\n",
       "      <td> 9.000000</td>\n",
       "    </tr>\n",
       "  </tbody>\n",
       "</table>\n",
       "</div>"
      ],
      "text/plain": [
       "   probability      odds\n",
       "0         0.10  0.111111\n",
       "1         0.20  0.250000\n",
       "2         0.25  0.333333\n",
       "3         0.50  1.000000\n",
       "4         0.60  1.500000\n",
       "5         0.80  4.000000\n",
       "6         0.90  9.000000"
      ]
     },
     "execution_count": 31,
     "metadata": {},
     "output_type": "execute_result"
    }
   ],
   "source": [
    "# create a table of probability versus odds\n",
    "table = pd.DataFrame({'probability':[0.1, 0.2, 0.25, 0.5, 0.6, 0.8, 0.9]})\n",
    "table['odds'] = table.probability/(1 - table.probability)\n",
    "table"
   ]
  },
  {
   "cell_type": "markdown",
   "metadata": {},
   "source": [
    "What is **e**? It is the base rate of growth shared by all continually growing processes:"
   ]
  },
  {
   "cell_type": "code",
   "execution_count": 32,
   "metadata": {
    "collapsed": false
   },
   "outputs": [
    {
     "data": {
      "text/plain": [
       "2.7182818284590451"
      ]
     },
     "execution_count": 32,
     "metadata": {},
     "output_type": "execute_result"
    }
   ],
   "source": [
    "# exponential function: e^1\n",
    "e = np.exp(1)\n",
    "e"
   ]
  },
  {
   "cell_type": "markdown",
   "metadata": {},
   "source": [
    "What is a **(natural) log**? It gives you the time needed to reach a certain level of growth:"
   ]
  },
  {
   "cell_type": "code",
   "execution_count": 33,
   "metadata": {
    "collapsed": false
   },
   "outputs": [
    {
     "data": {
      "text/plain": [
       "1.0"
      ]
     },
     "execution_count": 33,
     "metadata": {},
     "output_type": "execute_result"
    }
   ],
   "source": [
    "# time needed to grow 1 unit to 2.718 units\n",
    "np.log(e)"
   ]
  },
  {
   "cell_type": "markdown",
   "metadata": {},
   "source": [
    "It is also the **inverse** of the exponential function:"
   ]
  },
  {
   "cell_type": "code",
   "execution_count": 34,
   "metadata": {
    "collapsed": false
   },
   "outputs": [
    {
     "data": {
      "text/plain": [
       "5.0"
      ]
     },
     "execution_count": 34,
     "metadata": {},
     "output_type": "execute_result"
    }
   ],
   "source": [
    "np.log(np.exp(5))"
   ]
  },
  {
   "cell_type": "code",
   "execution_count": 35,
   "metadata": {
    "collapsed": false
   },
   "outputs": [
    {
     "data": {
      "text/html": [
       "<div style=\"max-height:1000px;max-width:1500px;overflow:auto;\">\n",
       "<table border=\"1\" class=\"dataframe\">\n",
       "  <thead>\n",
       "    <tr style=\"text-align: right;\">\n",
       "      <th></th>\n",
       "      <th>probability</th>\n",
       "      <th>odds</th>\n",
       "      <th>logodds</th>\n",
       "    </tr>\n",
       "  </thead>\n",
       "  <tbody>\n",
       "    <tr>\n",
       "      <th>0</th>\n",
       "      <td> 0.10</td>\n",
       "      <td> 0.111111</td>\n",
       "      <td>-2.197225</td>\n",
       "    </tr>\n",
       "    <tr>\n",
       "      <th>1</th>\n",
       "      <td> 0.20</td>\n",
       "      <td> 0.250000</td>\n",
       "      <td>-1.386294</td>\n",
       "    </tr>\n",
       "    <tr>\n",
       "      <th>2</th>\n",
       "      <td> 0.25</td>\n",
       "      <td> 0.333333</td>\n",
       "      <td>-1.098612</td>\n",
       "    </tr>\n",
       "    <tr>\n",
       "      <th>3</th>\n",
       "      <td> 0.50</td>\n",
       "      <td> 1.000000</td>\n",
       "      <td> 0.000000</td>\n",
       "    </tr>\n",
       "    <tr>\n",
       "      <th>4</th>\n",
       "      <td> 0.60</td>\n",
       "      <td> 1.500000</td>\n",
       "      <td> 0.405465</td>\n",
       "    </tr>\n",
       "    <tr>\n",
       "      <th>5</th>\n",
       "      <td> 0.80</td>\n",
       "      <td> 4.000000</td>\n",
       "      <td> 1.386294</td>\n",
       "    </tr>\n",
       "    <tr>\n",
       "      <th>6</th>\n",
       "      <td> 0.90</td>\n",
       "      <td> 9.000000</td>\n",
       "      <td> 2.197225</td>\n",
       "    </tr>\n",
       "  </tbody>\n",
       "</table>\n",
       "</div>"
      ],
      "text/plain": [
       "   probability      odds   logodds\n",
       "0         0.10  0.111111 -2.197225\n",
       "1         0.20  0.250000 -1.386294\n",
       "2         0.25  0.333333 -1.098612\n",
       "3         0.50  1.000000  0.000000\n",
       "4         0.60  1.500000  0.405465\n",
       "5         0.80  4.000000  1.386294\n",
       "6         0.90  9.000000  2.197225"
      ]
     },
     "execution_count": 35,
     "metadata": {},
     "output_type": "execute_result"
    }
   ],
   "source": [
    "# add log-odds to the table\n",
    "table['logodds'] = np.log(table.odds)\n",
    "table"
   ]
  },
  {
   "cell_type": "markdown",
   "metadata": {},
   "source": [
    "## Part 5: What is Logistic Regression?"
   ]
  },
  {
   "cell_type": "markdown",
   "metadata": {},
   "source": [
    "**Linear regression:** continuous response is modeled as a linear combination of the features:\n",
    "\n",
    "$$y = \\beta_0 + \\beta_1x$$\n",
    "\n",
    "**Logistic regression:** log-odds of a categorical response being \"true\" (1) is modeled as a linear combination of the features:\n",
    "\n",
    "$$\\log \\left({p\\over 1-p}\\right) = \\beta_0 + \\beta_1x$$\n",
    "\n",
    "This is called the **logit function**.\n",
    "\n",
    "Probability is sometimes written as pi:\n",
    "\n",
    "$$\\log \\left({\\pi\\over 1-\\pi}\\right) = \\beta_0 + \\beta_1x$$\n",
    "\n",
    "The equation can be rearranged into the **logistic function**:\n",
    "\n",
    "$$\\pi = \\frac{e^{\\beta_0 + \\beta_1x}} {1 + e^{\\beta_0 + \\beta_1x}}$$"
   ]
  },
  {
   "cell_type": "markdown",
   "metadata": {},
   "source": [
    "In other words:\n",
    "\n",
    "- Logistic regression outputs the **probabilities of a specific class**\n",
    "- Those probabilities can be converted into **class predictions**\n",
    "\n",
    "The **logistic function** has some nice properties:\n",
    "\n",
    "- Takes on an \"s\" shape\n",
    "- Output is bounded by 0 and 1\n",
    "\n",
    "Notes:\n",
    "\n",
    "- **Multinomial logistic regression** is used when there are more than 2 classes.\n",
    "- Coefficients are estimated using **maximum likelihood estimation**, meaning that we choose parameters that maximize the likelihood of the observed data."
   ]
  },
  {
   "cell_type": "markdown",
   "metadata": {},
   "source": [
    "## Part 6: Interpreting Logistic Regression Coefficients"
   ]
  },
  {
   "cell_type": "code",
   "execution_count": 36,
   "metadata": {
    "collapsed": false
   },
   "outputs": [
    {
     "data": {
      "text/plain": [
       "[<matplotlib.lines.Line2D at 0x10d4ed090>]"
      ]
     },
     "execution_count": 36,
     "metadata": {},
     "output_type": "execute_result"
    },
    {
     "data": {
      "image/png": "[encoded data removed]",
      "text/plain": [
       "<matplotlib.figure.Figure at 0x10d643bd0>"
      ]
     },
     "metadata": {},
     "output_type": "display_data"
    }
   ],
   "source": [
    "# plot the predicted probabilities again\n",
    "plt.scatter(glass.al, glass.assorted)\n",
    "plt.plot(glass.al, assorted_pred_prob, color='red')"
   ]
  },
  {
   "cell_type": "code",
   "execution_count": 37,
   "metadata": {
    "collapsed": false
   },
   "outputs": [
    {
     "data": {
      "text/plain": [
       "array([[-0.10592543]])"
      ]
     },
     "execution_count": 37,
     "metadata": {},
     "output_type": "execute_result"
    }
   ],
   "source": [
    "# compute predicted log-odds for al=2 using the equation\n",
    "logodds = logreg.intercept_ + logreg.coef_ * 2\n",
    "logodds"
   ]
  },
  {
   "cell_type": "code",
   "execution_count": 38,
   "metadata": {
    "collapsed": false
   },
   "outputs": [
    {
     "data": {
      "text/plain": [
       "array([[ 0.89949172]])"
      ]
     },
     "execution_count": 38,
     "metadata": {},
     "output_type": "execute_result"
    }
   ],
   "source": [
    "# convert log-odds to odds\n",
    "odds = np.exp(logodds)\n",
    "odds"
   ]
  },
  {
   "cell_type": "code",
   "execution_count": 39,
   "metadata": {
    "collapsed": false
   },
   "outputs": [
    {
     "data": {
      "text/plain": [
       "array([[ 0.47354338]])"
      ]
     },
     "execution_count": 39,
     "metadata": {},
     "output_type": "execute_result"
    }
   ],
   "source": [
    "# convert odds to probability\n",
    "prob = odds/(1 + odds)\n",
    "prob"
   ]
  },
  {
   "cell_type": "code",
   "execution_count": 40,
   "metadata": {
    "collapsed": false
   },
   "outputs": [
    {
     "data": {
      "text/plain": [
       "array([ 0.47354338])"
      ]
     },
     "execution_count": 40,
     "metadata": {},
     "output_type": "execute_result"
    }
   ],
   "source": [
    "# compute predicted probability for al=2 using the predict_proba method\n",
    "logreg.predict_proba(2)[:, 1]"
   ]
  },
  {
   "cell_type": "code",
   "execution_count": 41,
   "metadata": {
    "collapsed": false
   },
   "outputs": [
    {
     "data": {
      "text/html": [
       "<div style=\"max-height:1000px;max-width:1500px;overflow:auto;\">\n",
       "<table border=\"1\" class=\"dataframe\">\n",
       "  <thead>\n",
       "    <tr style=\"text-align: right;\">\n",
       "      <th></th>\n",
       "      <th>feature</th>\n",
       "      <th>coef</th>\n",
       "    </tr>\n",
       "  </thead>\n",
       "  <tbody>\n",
       "    <tr>\n",
       "      <th>0</th>\n",
       "      <td> al</td>\n",
       "      <td> [2.01099096417]</td>\n",
       "    </tr>\n",
       "  </tbody>\n",
       "</table>\n",
       "</div>"
      ],
      "text/plain": [
       "  feature             coef\n",
       "0      al  [2.01099096417]"
      ]
     },
     "execution_count": 41,
     "metadata": {},
     "output_type": "execute_result"
    }
   ],
   "source": [
    "# examine the coefficient for al\n",
    "pd.DataFrame(zip(feature_cols, logreg.coef_), columns=['feature', 'coef'])"
   ]
  },
  {
   "cell_type": "markdown",
   "metadata": {},
   "source": [
    "**Interpretation:** A 1 unit increase in 'al' is associated with a 2.0109 unit increase in the log-odds of 'assorted'."
   ]
  },
  {
   "cell_type": "code",
   "execution_count": 42,
   "metadata": {
    "collapsed": false
   },
   "outputs": [
    {
     "data": {
      "text/plain": [
       "0.87045351351387434"
      ]
     },
     "execution_count": 42,
     "metadata": {},
     "output_type": "execute_result"
    }
   ],
   "source": [
    "# increasing al by 1 (so that al=3) increases the log-odds by 2.0109\n",
    "\n",
    "# the -0.10592543 is the logodds we calculated a few cells ago for al=2\n",
    "# I am stepping through the equation by one \"unit\" of al\n",
    "\n",
    "logodds = -0.10592543 + 2.0109\n",
    "odds = np.exp(logodds)\n",
    "prob = odds/(1 + odds)\n",
    "prob"
   ]
  },
  {
   "cell_type": "code",
   "execution_count": 43,
   "metadata": {
    "collapsed": false
   },
   "outputs": [
    {
     "data": {
      "text/plain": [
       "array([ 0.87046377])"
      ]
     },
     "execution_count": 43,
     "metadata": {},
     "output_type": "execute_result"
    }
   ],
   "source": [
    "# compute predicted probability for al=3 using the predict_proba method\n",
    "logreg.predict_proba(3)[:, 1]"
   ]
  },
  {
   "cell_type": "markdown",
   "metadata": {},
   "source": [
    "**Bottom line:** Positive coefficients increase the log-odds of the response (and thus increase the probability), and negative coefficients decrease the log-odds of the response (and thus decrease the probability)."
   ]
  },
  {
   "cell_type": "code",
   "execution_count": 44,
   "metadata": {
    "collapsed": false
   },
   "outputs": [
    {
     "data": {
      "text/plain": [
       "array([-4.12790736])"
      ]
     },
     "execution_count": 44,
     "metadata": {},
     "output_type": "execute_result"
    }
   ],
   "source": [
    "# examine the intercept\n",
    "logreg.intercept_"
   ]
  },
  {
   "cell_type": "markdown",
   "metadata": {},
   "source": [
    "**Interpretation:** For an 'al' value of 0, the log-odds of 'assorted' is -4.127"
   ]
  },
  {
   "cell_type": "code",
   "execution_count": 45,
   "metadata": {
    "collapsed": false
   },
   "outputs": [
    {
     "data": {
      "text/plain": [
       "array([ 0.01586095])"
      ]
     },
     "execution_count": 45,
     "metadata": {},
     "output_type": "execute_result"
    }
   ],
   "source": [
    "# convert log-odds to probability\n",
    "# Probability of assorted is low if al = 0\n",
    "logodds = logreg.intercept_\n",
    "odds = np.exp(logodds)\n",
    "prob = odds/(1 + odds)\n",
    "prob"
   ]
  },
  {
   "cell_type": "markdown",
   "metadata": {},
   "source": [
    "That makes sense from the plot above, because the probability of assorted=1 should be very low for such a low 'al' value."
   ]
  },
  {
   "cell_type": "markdown",
   "metadata": {},
   "source": [
    "![](images/logistic_betas.png)"
   ]
  },
  {
   "cell_type": "markdown",
   "metadata": {},
   "source": [
    "Changing the $\\beta_0$ value shifts the curve **horizontally**, whereas changing the $\\beta_1$ value changes the **slope** of the curve."
   ]
  },
  {
   "cell_type": "markdown",
   "metadata": {},
   "source": [
    "## Part 7: Comparing Logistic Regression with Other Models\n",
    "\n",
    "Advantages of logistic regression:\n",
    "\n",
    "- Highly interpretable (if you remember how)\n",
    "- Model training and prediction are fast\n",
    "- No tuning is required (excluding regularization)\n",
    "- Features don't need scaling\n",
    "- Can perform well with a small number of observations\n",
    "- Outputs well-calibrated predicted probabilities\n",
    "\n",
    "Disadvantages of logistic regression:\n",
    "\n",
    "- Presumes a linear relationship between the features and the log-odds of the response\n",
    "- Performance is (generally) not competitive with the best supervised learning methods\n",
    "- Sensitive to irrelevant features\n",
    "- Can't automatically learn feature interactions"
   ]
  },
  {
   "cell_type": "markdown",
   "metadata": {},
   "source": [
    "## Bonus: Confusion Matrix\n",
    "\n"
   ]
  },
  {
   "cell_type": "code",
   "execution_count": 46,
   "metadata": {
    "collapsed": false
   },
   "outputs": [
    {
     "name": "stdout",
     "output_type": "stream",
     "text": [
      "[[160   3]\n",
      " [ 31  20]]\n"
     ]
    }
   ],
   "source": [
    "from sklearn import metrics\n",
    "preds = logreg.predict(X)\n",
    "print metrics.confusion_matrix(y, preds)\n",
    "# Note that we can't make this martix using cross_val_score so a train_test_split has to do!"
   ]
  },
  {
   "cell_type": "markdown",
   "metadata": {},
   "source": [
    "##Top Left: True Negatives <Br>\n",
    "##Top Right False Negatives <Br>\n",
    "##Bottom Left: False Negatives <br>\n",
    "##Bottom Right: True Positives <br>"
   ]
  },
  {
   "cell_type": "code",
   "execution_count": null,
   "metadata": {
    "collapsed": true
   },
   "outputs": [],
   "source": []
  },
  {
   "cell_type": "code",
   "execution_count": null,
   "metadata": {
    "collapsed": true
   },
   "outputs": [],
   "source": []
  },
  {
   "cell_type": "markdown",
   "metadata": {},
   "source": [
    "**Exercise** Calculate:\n",
    "Accuracy\n",
    "Sensitivity\n",
    "Specificity\n",
    "Precision by hand\n",
    "\n",
    "\n",
    "\n",
    "<br><br><br><br><br><br><br><br><br><br><br><br><br>\n",
    "\n",
    "\n",
    "\n",
    "\n",
    "\n",
    "\n",
    "\n",
    "#### Accuracy    = (157 + 28) / 214       == .8644\n",
    "#### Sensitivity (Recall) =  28        / (23 + 28) == .5490\n",
    "#### Specificity =  157       / (157 + 6) == .9631\n",
    "#### Precision =  28       / (28 + 6) == .823"
   ]
  },
  {
   "cell_type": "code",
   "execution_count": 47,
   "metadata": {
    "collapsed": false
   },
   "outputs": [
    {
     "name": "stdout",
     "output_type": "stream",
     "text": [
      "             precision    recall  f1-score   support\n",
      "\n",
      "          0       0.84      0.98      0.90       163\n",
      "          1       0.87      0.39      0.54        51\n",
      "\n",
      "avg / total       0.85      0.84      0.82       214\n",
      "\n"
     ]
    }
   ],
   "source": [
    "print metrics.classification_report(y, preds)"
   ]
  },
  {
   "cell_type": "code",
   "execution_count": null,
   "metadata": {
    "collapsed": true
   },
   "outputs": [],
   "source": []
  },
  {
   "cell_type": "code",
   "execution_count": null,
   "metadata": {
    "collapsed": true
   },
   "outputs": [],
   "source": []
  },
  {
   "cell_type": "code",
   "execution_count": null,
   "metadata": {
    "collapsed": true
   },
   "outputs": [],
   "source": []
  },
  {
   "cell_type": "code",
   "execution_count": null,
   "metadata": {
    "collapsed": true
   },
   "outputs": [],
   "source": []
  },
  {
   "cell_type": "code",
   "execution_count": null,
   "metadata": {
    "collapsed": true
   },
   "outputs": [],
   "source": []
  },
  {
   "cell_type": "code",
   "execution_count": 48,
   "metadata": {
    "collapsed": false
   },
   "outputs": [
    {
     "data": {
      "text/plain": [
       "<matplotlib.collections.PathCollection at 0x10daaa810>"
      ]
     },
     "execution_count": 48,
     "metadata": {},
     "output_type": "execute_result"
    },
    {
     "data": {
      "image/png": "[encoded data removed]",
      "text/plain": [
       "<matplotlib.figure.Figure at 0x10d9b72d0>"
      ]
     },
     "metadata": {},
     "output_type": "display_data"
    }
   ],
   "source": [
    "# MORE DATA\n",
    "\n",
    "# Logistic Regression is a high bias low variance model that is also non-parametric\n",
    "\n",
    "from sklearn.datasets import make_circles\n",
    "from sklearn.cross_validation import cross_val_score\n",
    "circles_X, circles_y = make_circles(n_samples=1000, random_state=123, noise=0.1, factor=0.2)\n",
    "plt.scatter(circles_X[:,0], circles_X[:,1])"
   ]
  },
  {
   "cell_type": "code",
   "execution_count": 49,
   "metadata": {
    "collapsed": false
   },
   "outputs": [
    {
     "data": {
      "image/png": "[encoded data removed]",
      "text/plain": [
       "<matplotlib.figure.Figure at 0x107399d50>"
      ]
     },
     "metadata": {},
     "output_type": "display_data"
    }
   ],
   "source": [
    "# It has a linear decision boundary, IE the shape is draws between classes are lines!\n",
    "\n",
    "from matplotlib.colors import ListedColormap\n",
    "import numpy as np\n",
    "\n",
    "h = .02  # step size in the mesh\n",
    "\n",
    "# Create color maps\n",
    "cmap_light = ListedColormap(['#FFAAAA', '#AAFFAA', '#AAAAFF'])\n",
    "cmap_bold = ListedColormap(['#FF0000', '#00FF00', '#0000FF'])\n",
    "\n",
    "# we create an instance of Neighbours Classifier and fit the data.\n",
    "logreg = LogisticRegression()\n",
    "logreg.fit(circles_X, circles_y)\n",
    "\n",
    "# Plot the decision boundary. For that, we will assign a color to each\n",
    "# point in the mesh [x_min, m_max]x[y_min, y_max].\n",
    "x_min, x_max = circles_X[:, 0].min() - 1, circles_X[:, 0].max() + 1\n",
    "y_min, y_max = circles_X[:, 1].min() - 1, circles_X[:, 1].max() + 1\n",
    "xx, yy = np.meshgrid(np.arange(x_min, x_max, h),\n",
    "                     np.arange(y_min, y_max, h))\n",
    "Z = logreg.predict(np.c_[xx.ravel(), yy.ravel()])\n",
    "\n",
    "# Put the result into a color plot\n",
    "Z = Z.reshape(xx.shape)\n",
    "plt.figure()\n",
    "plt.pcolormesh(xx, yy, Z, cmap=cmap_light)\n",
    "\n",
    "# Plot also the training points\n",
    "plt.scatter(circles_X[:, 0], circles_X[:, 1], c=circles_y, cmap=cmap_bold)\n",
    "plt.xlim(xx.min(), xx.max())\n",
    "plt.ylim(yy.min(), yy.max())\n",
    "plt.title(\"Circle classification Logistic Regression\")\n",
    "\n",
    "plt.show()"
   ]
  },
  {
   "cell_type": "code",
   "execution_count": 50,
   "metadata": {
    "collapsed": false
   },
   "outputs": [
    {
     "data": {
      "text/plain": [
       "0.48899999999999999"
      ]
     },
     "execution_count": 50,
     "metadata": {},
     "output_type": "execute_result"
    }
   ],
   "source": [
    "logreg = LogisticRegression()\n",
    "cross_val_score(logreg, circles_X, circles_y, cv=5, scoring='accuracy').mean()\n",
    "# lame"
   ]
  },
  {
   "cell_type": "code",
   "execution_count": 51,
   "metadata": {
    "collapsed": false
   },
   "outputs": [
    {
     "data": {
      "text/plain": [
       "1.0"
      ]
     },
     "execution_count": 51,
     "metadata": {},
     "output_type": "execute_result"
    }
   ],
   "source": [
    "from sklearn.neighbors import KNeighborsClassifier  # compare to knn\n",
    "knn = KNeighborsClassifier(n_neighbors=7)\n",
    "cross_val_score(knn, circles_X, circles_y, cv=5, scoring='accuracy').mean()\n",
    "# not as lame, remember?"
   ]
  },
  {
   "cell_type": "code",
   "execution_count": null,
   "metadata": {
    "collapsed": false
   },
   "outputs": [],
   "source": []
  },
  {
   "cell_type": "code",
   "execution_count": 52,
   "metadata": {
    "collapsed": false
   },
   "outputs": [
    {
     "data": {
      "text/plain": [
       "array([[  0.,   0.,   5., ...,   0.,   0.,   0.],\n",
       "       [  0.,   0.,   0., ...,  10.,   0.,   0.],\n",
       "       [  0.,   0.,   0., ...,  16.,   9.,   0.],\n",
       "       ..., \n",
       "       [  0.,   0.,   1., ...,   6.,   0.,   0.],\n",
       "       [  0.,   0.,   2., ...,  12.,   0.,   0.],\n",
       "       [  0.,   0.,  10., ...,  12.,   1.,   0.]])"
      ]
     },
     "execution_count": 52,
     "metadata": {},
     "output_type": "execute_result"
    }
   ],
   "source": [
    "from sklearn import datasets\n",
    "\n",
    "# new dataset, handwritten digits!\n",
    "digits = datasets.load_digits()\n",
    "digits.data"
   ]
  },
  {
   "cell_type": "code",
   "execution_count": 53,
   "metadata": {
    "collapsed": false
   },
   "outputs": [
    {
     "data": {
      "text/plain": [
       "9"
      ]
     },
     "execution_count": 53,
     "metadata": {},
     "output_type": "execute_result"
    },
    {
     "data": {
      "image/png": "[encoded data removed]",
      "text/plain": [
       "<matplotlib.figure.Figure at 0x10f9a4590>"
      ]
     },
     "metadata": {},
     "output_type": "display_data"
    }
   ],
   "source": [
    "plt.imshow(digits.images[-5], cmap=plt.cm.gray_r, interpolation='nearest')\n",
    "# the number 9\n",
    "\n",
    "\n",
    "digits.target[-5]"
   ]
  },
  {
   "cell_type": "code",
   "execution_count": 54,
   "metadata": {
    "collapsed": false
   },
   "outputs": [
    {
     "data": {
      "text/plain": [
       "(1797, 64)"
      ]
     },
     "execution_count": 54,
     "metadata": {},
     "output_type": "execute_result"
    }
   ],
   "source": [
    "digits.data.shape\n",
    "# 1,797 observations, 64 features (8 x 8 image)"
   ]
  },
  {
   "cell_type": "code",
   "execution_count": 55,
   "metadata": {
    "collapsed": true
   },
   "outputs": [],
   "source": [
    "digits_X, digits_y = digits.data, digits.target"
   ]
  },
  {
   "cell_type": "code",
   "execution_count": 56,
   "metadata": {
    "collapsed": false
   },
   "outputs": [
    {
     "data": {
      "text/plain": [
       "0.92101881133607011"
      ]
     },
     "execution_count": 56,
     "metadata": {},
     "output_type": "execute_result"
    }
   ],
   "source": [
    "logreg = LogisticRegression()\n",
    "cross_val_score(logreg, digits_X, digits_y, cv=5, scoring='accuracy').mean()"
   ]
  },
  {
   "cell_type": "code",
   "execution_count": null,
   "metadata": {
    "collapsed": false
   },
   "outputs": [],
   "source": []
  },
  {
   "cell_type": "code",
   "execution_count": 57,
   "metadata": {
    "collapsed": false
   },
   "outputs": [
    {
     "data": {
      "text/plain": [
       "0.9627899114966898"
      ]
     },
     "execution_count": 57,
     "metadata": {},
     "output_type": "execute_result"
    }
   ],
   "source": [
    "# compare to KNN\n",
    "knn = KNeighborsClassifier(n_neighbors=5)\n",
    "cross_val_score(knn, digits_X, digits_y, cv=5, scoring='accuracy').mean()"
   ]
  },
  {
   "cell_type": "code",
   "execution_count": null,
   "metadata": {
    "collapsed": true
   },
   "outputs": [],
   "source": [
    "# Thought Exercise, why would KNN potentially be a better model than logsitci regression\n",
    "# for handwriting?"
   ]
  },
  {
   "cell_type": "code",
   "execution_count": null,
   "metadata": {
    "collapsed": true
   },
   "outputs": [],
   "source": []
  },
  {
   "cell_type": "code",
   "execution_count": null,
   "metadata": {
    "collapsed": true
   },
   "outputs": [],
   "source": [
    "# OK so wait, when should we use Logistic Regression?"
   ]
  },
  {
   "cell_type": "code",
   "execution_count": null,
   "metadata": {
    "collapsed": false
   },
   "outputs": [],
   "source": []
  },
  {
   "cell_type": "code",
   "execution_count": null,
   "metadata": {
    "collapsed": false
   },
   "outputs": [],
   "source": []
  },
  {
   "cell_type": "code",
   "execution_count": null,
   "metadata": {
    "collapsed": true
   },
   "outputs": [],
   "source": []
  },
  {
   "cell_type": "code",
   "execution_count": null,
   "metadata": {
    "collapsed": false
   },
   "outputs": [],
   "source": []
  },
  {
   "cell_type": "code",
   "execution_count": null,
   "metadata": {
    "collapsed": false
   },
   "outputs": [],
   "source": []
  },
  {
   "cell_type": "code",
   "execution_count": null,
   "metadata": {
    "collapsed": true
   },
   "outputs": [],
   "source": []
  },
  {
   "cell_type": "code",
   "execution_count": null,
   "metadata": {
    "collapsed": false
   },
   "outputs": [],
   "source": []
  },
  {
   "cell_type": "code",
   "execution_count": null,
   "metadata": {
    "collapsed": false
   },
   "outputs": [],
   "source": []
  },
  {
   "cell_type": "code",
   "execution_count": null,
   "metadata": {
    "collapsed": false
   },
   "outputs": [],
   "source": []
  },
  {
   "cell_type": "code",
   "execution_count": 58,
   "metadata": {
    "collapsed": true
   },
   "outputs": [],
   "source": [
    "# Using dataset of a 1978 survey conducted to measure likliehood of women to perform extramarital affairs\n",
    "# http://statsmodels.sourceforge.net/stable/datasets/generated/fair.html\n",
    "\n",
    "import statsmodels.api as sm\n",
    "affairs_df = sm.datasets.fair.load_pandas().data"
   ]
  },
  {
   "cell_type": "code",
   "execution_count": 60,
   "metadata": {
    "collapsed": false
   },
   "outputs": [
    {
     "data": {
      "text/html": [
       "<div style=\"max-height:1000px;max-width:1500px;overflow:auto;\">\n",
       "<table border=\"1\" class=\"dataframe\">\n",
       "  <thead>\n",
       "    <tr style=\"text-align: right;\">\n",
       "      <th></th>\n",
       "      <th>rate_marriage</th>\n",
       "      <th>age</th>\n",
       "      <th>yrs_married</th>\n",
       "      <th>children</th>\n",
       "      <th>religious</th>\n",
       "      <th>educ</th>\n",
       "      <th>occupation</th>\n",
       "      <th>occupation_husb</th>\n",
       "      <th>affairs</th>\n",
       "    </tr>\n",
       "  </thead>\n",
       "  <tbody>\n",
       "    <tr>\n",
       "      <th>0   </th>\n",
       "      <td> 3</td>\n",
       "      <td> 32.0</td>\n",
       "      <td>  9.0</td>\n",
       "      <td> 3.0</td>\n",
       "      <td> 3</td>\n",
       "      <td> 17</td>\n",
       "      <td> 2</td>\n",
       "      <td> 5</td>\n",
       "      <td>  0.111111</td>\n",
       "    </tr>\n",
       "    <tr>\n",
       "      <th>1   </th>\n",
       "      <td> 3</td>\n",
       "      <td> 27.0</td>\n",
       "      <td> 13.0</td>\n",
       "      <td> 3.0</td>\n",
       "      <td> 1</td>\n",
       "      <td> 14</td>\n",
       "      <td> 3</td>\n",
       "      <td> 4</td>\n",
       "      <td>  3.230769</td>\n",
       "    </tr>\n",
       "    <tr>\n",
       "      <th>2   </th>\n",
       "      <td> 4</td>\n",
       "      <td> 22.0</td>\n",
       "      <td>  2.5</td>\n",
       "      <td> 0.0</td>\n",
       "      <td> 1</td>\n",
       "      <td> 16</td>\n",
       "      <td> 3</td>\n",
       "      <td> 5</td>\n",
       "      <td>  1.400000</td>\n",
       "    </tr>\n",
       "    <tr>\n",
       "      <th>3   </th>\n",
       "      <td> 4</td>\n",
       "      <td> 37.0</td>\n",
       "      <td> 16.5</td>\n",
       "      <td> 4.0</td>\n",
       "      <td> 3</td>\n",
       "      <td> 16</td>\n",
       "      <td> 5</td>\n",
       "      <td> 5</td>\n",
       "      <td>  0.727273</td>\n",
       "    </tr>\n",
       "    <tr>\n",
       "      <th>4   </th>\n",
       "      <td> 5</td>\n",
       "      <td> 27.0</td>\n",
       "      <td>  9.0</td>\n",
       "      <td> 1.0</td>\n",
       "      <td> 1</td>\n",
       "      <td> 14</td>\n",
       "      <td> 3</td>\n",
       "      <td> 4</td>\n",
       "      <td>  4.666666</td>\n",
       "    </tr>\n",
       "    <tr>\n",
       "      <th>5   </th>\n",
       "      <td> 4</td>\n",
       "      <td> 27.0</td>\n",
       "      <td>  9.0</td>\n",
       "      <td> 0.0</td>\n",
       "      <td> 2</td>\n",
       "      <td> 14</td>\n",
       "      <td> 3</td>\n",
       "      <td> 4</td>\n",
       "      <td>  4.666666</td>\n",
       "    </tr>\n",
       "    <tr>\n",
       "      <th>6   </th>\n",
       "      <td> 5</td>\n",
       "      <td> 37.0</td>\n",
       "      <td> 23.0</td>\n",
       "      <td> 5.5</td>\n",
       "      <td> 2</td>\n",
       "      <td> 12</td>\n",
       "      <td> 5</td>\n",
       "      <td> 4</td>\n",
       "      <td>  0.852174</td>\n",
       "    </tr>\n",
       "    <tr>\n",
       "      <th>7   </th>\n",
       "      <td> 5</td>\n",
       "      <td> 37.0</td>\n",
       "      <td> 23.0</td>\n",
       "      <td> 5.5</td>\n",
       "      <td> 2</td>\n",
       "      <td> 12</td>\n",
       "      <td> 2</td>\n",
       "      <td> 3</td>\n",
       "      <td>  1.826086</td>\n",
       "    </tr>\n",
       "    <tr>\n",
       "      <th>8   </th>\n",
       "      <td> 3</td>\n",
       "      <td> 22.0</td>\n",
       "      <td>  2.5</td>\n",
       "      <td> 0.0</td>\n",
       "      <td> 2</td>\n",
       "      <td> 12</td>\n",
       "      <td> 3</td>\n",
       "      <td> 3</td>\n",
       "      <td>  4.799999</td>\n",
       "    </tr>\n",
       "    <tr>\n",
       "      <th>9   </th>\n",
       "      <td> 3</td>\n",
       "      <td> 27.0</td>\n",
       "      <td>  6.0</td>\n",
       "      <td> 0.0</td>\n",
       "      <td> 1</td>\n",
       "      <td> 16</td>\n",
       "      <td> 3</td>\n",
       "      <td> 5</td>\n",
       "      <td>  1.333333</td>\n",
       "    </tr>\n",
       "    <tr>\n",
       "      <th>10  </th>\n",
       "      <td> 2</td>\n",
       "      <td> 27.0</td>\n",
       "      <td>  6.0</td>\n",
       "      <td> 2.0</td>\n",
       "      <td> 1</td>\n",
       "      <td> 16</td>\n",
       "      <td> 3</td>\n",
       "      <td> 5</td>\n",
       "      <td>  3.266665</td>\n",
       "    </tr>\n",
       "    <tr>\n",
       "      <th>11  </th>\n",
       "      <td> 5</td>\n",
       "      <td> 27.0</td>\n",
       "      <td>  6.0</td>\n",
       "      <td> 2.0</td>\n",
       "      <td> 3</td>\n",
       "      <td> 14</td>\n",
       "      <td> 3</td>\n",
       "      <td> 5</td>\n",
       "      <td>  2.041666</td>\n",
       "    </tr>\n",
       "    <tr>\n",
       "      <th>12  </th>\n",
       "      <td> 3</td>\n",
       "      <td> 37.0</td>\n",
       "      <td> 16.5</td>\n",
       "      <td> 5.5</td>\n",
       "      <td> 1</td>\n",
       "      <td> 12</td>\n",
       "      <td> 2</td>\n",
       "      <td> 3</td>\n",
       "      <td>  0.484848</td>\n",
       "    </tr>\n",
       "    <tr>\n",
       "      <th>13  </th>\n",
       "      <td> 5</td>\n",
       "      <td> 27.0</td>\n",
       "      <td>  6.0</td>\n",
       "      <td> 0.0</td>\n",
       "      <td> 2</td>\n",
       "      <td> 14</td>\n",
       "      <td> 3</td>\n",
       "      <td> 2</td>\n",
       "      <td>  2.000000</td>\n",
       "    </tr>\n",
       "    <tr>\n",
       "      <th>14  </th>\n",
       "      <td> 4</td>\n",
       "      <td> 22.0</td>\n",
       "      <td>  6.0</td>\n",
       "      <td> 1.0</td>\n",
       "      <td> 1</td>\n",
       "      <td> 14</td>\n",
       "      <td> 4</td>\n",
       "      <td> 4</td>\n",
       "      <td>  3.266665</td>\n",
       "    </tr>\n",
       "    <tr>\n",
       "      <th>15  </th>\n",
       "      <td> 4</td>\n",
       "      <td> 37.0</td>\n",
       "      <td>  9.0</td>\n",
       "      <td> 2.0</td>\n",
       "      <td> 2</td>\n",
       "      <td> 14</td>\n",
       "      <td> 3</td>\n",
       "      <td> 6</td>\n",
       "      <td>  1.361111</td>\n",
       "    </tr>\n",
       "    <tr>\n",
       "      <th>16  </th>\n",
       "      <td> 4</td>\n",
       "      <td> 27.0</td>\n",
       "      <td>  6.0</td>\n",
       "      <td> 1.0</td>\n",
       "      <td> 1</td>\n",
       "      <td> 12</td>\n",
       "      <td> 3</td>\n",
       "      <td> 5</td>\n",
       "      <td>  2.000000</td>\n",
       "    </tr>\n",
       "    <tr>\n",
       "      <th>17  </th>\n",
       "      <td> 1</td>\n",
       "      <td> 37.0</td>\n",
       "      <td> 23.0</td>\n",
       "      <td> 5.5</td>\n",
       "      <td> 4</td>\n",
       "      <td> 14</td>\n",
       "      <td> 5</td>\n",
       "      <td> 2</td>\n",
       "      <td>  1.826086</td>\n",
       "    </tr>\n",
       "    <tr>\n",
       "      <th>18  </th>\n",
       "      <td> 2</td>\n",
       "      <td> 42.0</td>\n",
       "      <td> 23.0</td>\n",
       "      <td> 2.0</td>\n",
       "      <td> 2</td>\n",
       "      <td> 20</td>\n",
       "      <td> 4</td>\n",
       "      <td> 4</td>\n",
       "      <td>  1.826086</td>\n",
       "    </tr>\n",
       "    <tr>\n",
       "      <th>19  </th>\n",
       "      <td> 4</td>\n",
       "      <td> 37.0</td>\n",
       "      <td>  6.0</td>\n",
       "      <td> 0.0</td>\n",
       "      <td> 2</td>\n",
       "      <td> 16</td>\n",
       "      <td> 5</td>\n",
       "      <td> 4</td>\n",
       "      <td>  2.041666</td>\n",
       "    </tr>\n",
       "    <tr>\n",
       "      <th>20  </th>\n",
       "      <td> 5</td>\n",
       "      <td> 22.0</td>\n",
       "      <td>  2.5</td>\n",
       "      <td> 0.0</td>\n",
       "      <td> 2</td>\n",
       "      <td> 14</td>\n",
       "      <td> 3</td>\n",
       "      <td> 4</td>\n",
       "      <td>  7.839996</td>\n",
       "    </tr>\n",
       "    <tr>\n",
       "      <th>21  </th>\n",
       "      <td> 3</td>\n",
       "      <td> 37.0</td>\n",
       "      <td> 16.5</td>\n",
       "      <td> 5.5</td>\n",
       "      <td> 2</td>\n",
       "      <td>  9</td>\n",
       "      <td> 3</td>\n",
       "      <td> 2</td>\n",
       "      <td>  2.545454</td>\n",
       "    </tr>\n",
       "    <tr>\n",
       "      <th>22  </th>\n",
       "      <td> 3</td>\n",
       "      <td> 42.0</td>\n",
       "      <td> 23.0</td>\n",
       "      <td> 5.5</td>\n",
       "      <td> 3</td>\n",
       "      <td> 12</td>\n",
       "      <td> 5</td>\n",
       "      <td> 4</td>\n",
       "      <td>  0.532609</td>\n",
       "    </tr>\n",
       "    <tr>\n",
       "      <th>23  </th>\n",
       "      <td> 2</td>\n",
       "      <td> 27.0</td>\n",
       "      <td>  9.0</td>\n",
       "      <td> 2.0</td>\n",
       "      <td> 4</td>\n",
       "      <td> 20</td>\n",
       "      <td> 3</td>\n",
       "      <td> 4</td>\n",
       "      <td>  0.622222</td>\n",
       "    </tr>\n",
       "    <tr>\n",
       "      <th>24  </th>\n",
       "      <td> 4</td>\n",
       "      <td> 27.0</td>\n",
       "      <td>  6.0</td>\n",
       "      <td> 1.0</td>\n",
       "      <td> 2</td>\n",
       "      <td> 12</td>\n",
       "      <td> 5</td>\n",
       "      <td> 4</td>\n",
       "      <td>  0.583333</td>\n",
       "    </tr>\n",
       "    <tr>\n",
       "      <th>25  </th>\n",
       "      <td> 5</td>\n",
       "      <td> 27.0</td>\n",
       "      <td>  2.5</td>\n",
       "      <td> 0.0</td>\n",
       "      <td> 3</td>\n",
       "      <td> 16</td>\n",
       "      <td> 4</td>\n",
       "      <td> 1</td>\n",
       "      <td>  4.799999</td>\n",
       "    </tr>\n",
       "    <tr>\n",
       "      <th>26  </th>\n",
       "      <td> 2</td>\n",
       "      <td> 27.0</td>\n",
       "      <td>  6.0</td>\n",
       "      <td> 2.0</td>\n",
       "      <td> 2</td>\n",
       "      <td> 12</td>\n",
       "      <td> 2</td>\n",
       "      <td> 5</td>\n",
       "      <td>  0.166667</td>\n",
       "    </tr>\n",
       "    <tr>\n",
       "      <th>27  </th>\n",
       "      <td> 5</td>\n",
       "      <td> 37.0</td>\n",
       "      <td> 13.0</td>\n",
       "      <td> 1.0</td>\n",
       "      <td> 3</td>\n",
       "      <td> 12</td>\n",
       "      <td> 3</td>\n",
       "      <td> 4</td>\n",
       "      <td>  0.615385</td>\n",
       "    </tr>\n",
       "    <tr>\n",
       "      <th>28  </th>\n",
       "      <td> 2</td>\n",
       "      <td> 32.0</td>\n",
       "      <td> 16.5</td>\n",
       "      <td> 2.0</td>\n",
       "      <td> 2</td>\n",
       "      <td> 12</td>\n",
       "      <td> 4</td>\n",
       "      <td> 2</td>\n",
       "      <td>  1.187878</td>\n",
       "    </tr>\n",
       "    <tr>\n",
       "      <th>29  </th>\n",
       "      <td> 3</td>\n",
       "      <td> 27.0</td>\n",
       "      <td>  6.0</td>\n",
       "      <td> 1.0</td>\n",
       "      <td> 1</td>\n",
       "      <td> 14</td>\n",
       "      <td> 3</td>\n",
       "      <td> 6</td>\n",
       "      <td> 11.199999</td>\n",
       "    </tr>\n",
       "    <tr>\n",
       "      <th>...</th>\n",
       "      <td>...</td>\n",
       "      <td>...</td>\n",
       "      <td>...</td>\n",
       "      <td>...</td>\n",
       "      <td>...</td>\n",
       "      <td>...</td>\n",
       "      <td>...</td>\n",
       "      <td>...</td>\n",
       "      <td>...</td>\n",
       "    </tr>\n",
       "    <tr>\n",
       "      <th>6336</th>\n",
       "      <td> 5</td>\n",
       "      <td> 42.0</td>\n",
       "      <td> 23.0</td>\n",
       "      <td> 4.0</td>\n",
       "      <td> 3</td>\n",
       "      <td> 14</td>\n",
       "      <td> 5</td>\n",
       "      <td> 4</td>\n",
       "      <td>  0.000000</td>\n",
       "    </tr>\n",
       "    <tr>\n",
       "      <th>6337</th>\n",
       "      <td> 5</td>\n",
       "      <td> 27.0</td>\n",
       "      <td>  6.0</td>\n",
       "      <td> 0.0</td>\n",
       "      <td> 4</td>\n",
       "      <td> 14</td>\n",
       "      <td> 4</td>\n",
       "      <td> 4</td>\n",
       "      <td>  0.000000</td>\n",
       "    </tr>\n",
       "    <tr>\n",
       "      <th>6338</th>\n",
       "      <td> 5</td>\n",
       "      <td> 42.0</td>\n",
       "      <td> 23.0</td>\n",
       "      <td> 2.0</td>\n",
       "      <td> 3</td>\n",
       "      <td> 12</td>\n",
       "      <td> 2</td>\n",
       "      <td> 2</td>\n",
       "      <td>  0.000000</td>\n",
       "    </tr>\n",
       "    <tr>\n",
       "      <th>6339</th>\n",
       "      <td> 4</td>\n",
       "      <td> 32.0</td>\n",
       "      <td> 13.0</td>\n",
       "      <td> 3.0</td>\n",
       "      <td> 3</td>\n",
       "      <td> 16</td>\n",
       "      <td> 4</td>\n",
       "      <td> 2</td>\n",
       "      <td>  0.000000</td>\n",
       "    </tr>\n",
       "    <tr>\n",
       "      <th>6340</th>\n",
       "      <td> 5</td>\n",
       "      <td> 27.0</td>\n",
       "      <td> 13.0</td>\n",
       "      <td> 3.0</td>\n",
       "      <td> 3</td>\n",
       "      <td> 16</td>\n",
       "      <td> 4</td>\n",
       "      <td> 2</td>\n",
       "      <td>  0.000000</td>\n",
       "    </tr>\n",
       "    <tr>\n",
       "      <th>6341</th>\n",
       "      <td> 5</td>\n",
       "      <td> 27.0</td>\n",
       "      <td>  9.0</td>\n",
       "      <td> 1.0</td>\n",
       "      <td> 2</td>\n",
       "      <td> 14</td>\n",
       "      <td> 4</td>\n",
       "      <td> 5</td>\n",
       "      <td>  0.000000</td>\n",
       "    </tr>\n",
       "    <tr>\n",
       "      <th>6342</th>\n",
       "      <td> 4</td>\n",
       "      <td> 22.0</td>\n",
       "      <td>  2.5</td>\n",
       "      <td> 0.0</td>\n",
       "      <td> 2</td>\n",
       "      <td> 16</td>\n",
       "      <td> 4</td>\n",
       "      <td> 1</td>\n",
       "      <td>  0.000000</td>\n",
       "    </tr>\n",
       "    <tr>\n",
       "      <th>6343</th>\n",
       "      <td> 5</td>\n",
       "      <td> 17.5</td>\n",
       "      <td>  2.5</td>\n",
       "      <td> 0.0</td>\n",
       "      <td> 4</td>\n",
       "      <td> 12</td>\n",
       "      <td> 3</td>\n",
       "      <td> 5</td>\n",
       "      <td>  0.000000</td>\n",
       "    </tr>\n",
       "    <tr>\n",
       "      <th>6344</th>\n",
       "      <td> 4</td>\n",
       "      <td> 32.0</td>\n",
       "      <td> 16.5</td>\n",
       "      <td> 2.0</td>\n",
       "      <td> 2</td>\n",
       "      <td> 12</td>\n",
       "      <td> 3</td>\n",
       "      <td> 4</td>\n",
       "      <td>  0.000000</td>\n",
       "    </tr>\n",
       "    <tr>\n",
       "      <th>6345</th>\n",
       "      <td> 5</td>\n",
       "      <td> 27.0</td>\n",
       "      <td>  9.0</td>\n",
       "      <td> 1.0</td>\n",
       "      <td> 3</td>\n",
       "      <td> 12</td>\n",
       "      <td> 3</td>\n",
       "      <td> 5</td>\n",
       "      <td>  0.000000</td>\n",
       "    </tr>\n",
       "    <tr>\n",
       "      <th>6346</th>\n",
       "      <td> 4</td>\n",
       "      <td> 22.0</td>\n",
       "      <td>  2.5</td>\n",
       "      <td> 0.0</td>\n",
       "      <td> 4</td>\n",
       "      <td> 14</td>\n",
       "      <td> 4</td>\n",
       "      <td> 2</td>\n",
       "      <td>  0.000000</td>\n",
       "    </tr>\n",
       "    <tr>\n",
       "      <th>6347</th>\n",
       "      <td> 5</td>\n",
       "      <td> 22.0</td>\n",
       "      <td>  2.5</td>\n",
       "      <td> 1.0</td>\n",
       "      <td> 2</td>\n",
       "      <td> 12</td>\n",
       "      <td> 3</td>\n",
       "      <td> 2</td>\n",
       "      <td>  0.000000</td>\n",
       "    </tr>\n",
       "    <tr>\n",
       "      <th>6348</th>\n",
       "      <td> 5</td>\n",
       "      <td> 27.0</td>\n",
       "      <td>  0.5</td>\n",
       "      <td> 0.0</td>\n",
       "      <td> 4</td>\n",
       "      <td> 20</td>\n",
       "      <td> 4</td>\n",
       "      <td> 4</td>\n",
       "      <td>  0.000000</td>\n",
       "    </tr>\n",
       "    <tr>\n",
       "      <th>6349</th>\n",
       "      <td> 5</td>\n",
       "      <td> 37.0</td>\n",
       "      <td> 16.5</td>\n",
       "      <td> 3.0</td>\n",
       "      <td> 3</td>\n",
       "      <td> 14</td>\n",
       "      <td> 5</td>\n",
       "      <td> 5</td>\n",
       "      <td>  0.000000</td>\n",
       "    </tr>\n",
       "    <tr>\n",
       "      <th>6350</th>\n",
       "      <td> 5</td>\n",
       "      <td> 32.0</td>\n",
       "      <td> 13.0</td>\n",
       "      <td> 2.0</td>\n",
       "      <td> 4</td>\n",
       "      <td> 14</td>\n",
       "      <td> 3</td>\n",
       "      <td> 6</td>\n",
       "      <td>  0.000000</td>\n",
       "    </tr>\n",
       "    <tr>\n",
       "      <th>6351</th>\n",
       "      <td> 4</td>\n",
       "      <td> 22.0</td>\n",
       "      <td>  0.5</td>\n",
       "      <td> 0.0</td>\n",
       "      <td> 2</td>\n",
       "      <td> 16</td>\n",
       "      <td> 3</td>\n",
       "      <td> 1</td>\n",
       "      <td>  0.000000</td>\n",
       "    </tr>\n",
       "    <tr>\n",
       "      <th>6352</th>\n",
       "      <td> 5</td>\n",
       "      <td> 42.0</td>\n",
       "      <td> 23.0</td>\n",
       "      <td> 2.0</td>\n",
       "      <td> 4</td>\n",
       "      <td> 12</td>\n",
       "      <td> 3</td>\n",
       "      <td> 2</td>\n",
       "      <td>  0.000000</td>\n",
       "    </tr>\n",
       "    <tr>\n",
       "      <th>6353</th>\n",
       "      <td> 5</td>\n",
       "      <td> 22.0</td>\n",
       "      <td>  2.5</td>\n",
       "      <td> 2.0</td>\n",
       "      <td> 2</td>\n",
       "      <td> 14</td>\n",
       "      <td> 3</td>\n",
       "      <td> 5</td>\n",
       "      <td>  0.000000</td>\n",
       "    </tr>\n",
       "    <tr>\n",
       "      <th>6354</th>\n",
       "      <td> 5</td>\n",
       "      <td> 42.0</td>\n",
       "      <td> 23.0</td>\n",
       "      <td> 4.0</td>\n",
       "      <td> 4</td>\n",
       "      <td> 12</td>\n",
       "      <td> 3</td>\n",
       "      <td> 5</td>\n",
       "      <td>  0.000000</td>\n",
       "    </tr>\n",
       "    <tr>\n",
       "      <th>6355</th>\n",
       "      <td> 4</td>\n",
       "      <td> 27.0</td>\n",
       "      <td>  6.0</td>\n",
       "      <td> 0.0</td>\n",
       "      <td> 3</td>\n",
       "      <td> 12</td>\n",
       "      <td> 3</td>\n",
       "      <td> 4</td>\n",
       "      <td>  0.000000</td>\n",
       "    </tr>\n",
       "    <tr>\n",
       "      <th>6356</th>\n",
       "      <td> 5</td>\n",
       "      <td> 32.0</td>\n",
       "      <td> 13.0</td>\n",
       "      <td> 3.0</td>\n",
       "      <td> 3</td>\n",
       "      <td> 12</td>\n",
       "      <td> 3</td>\n",
       "      <td> 5</td>\n",
       "      <td>  0.000000</td>\n",
       "    </tr>\n",
       "    <tr>\n",
       "      <th>6357</th>\n",
       "      <td> 5</td>\n",
       "      <td> 32.0</td>\n",
       "      <td> 13.0</td>\n",
       "      <td> 4.0</td>\n",
       "      <td> 2</td>\n",
       "      <td> 14</td>\n",
       "      <td> 4</td>\n",
       "      <td> 4</td>\n",
       "      <td>  0.000000</td>\n",
       "    </tr>\n",
       "    <tr>\n",
       "      <th>6358</th>\n",
       "      <td> 3</td>\n",
       "      <td> 27.0</td>\n",
       "      <td>  6.0</td>\n",
       "      <td> 2.0</td>\n",
       "      <td> 4</td>\n",
       "      <td> 14</td>\n",
       "      <td> 3</td>\n",
       "      <td> 1</td>\n",
       "      <td>  0.000000</td>\n",
       "    </tr>\n",
       "    <tr>\n",
       "      <th>6359</th>\n",
       "      <td> 4</td>\n",
       "      <td> 22.0</td>\n",
       "      <td>  2.5</td>\n",
       "      <td> 0.0</td>\n",
       "      <td> 3</td>\n",
       "      <td> 16</td>\n",
       "      <td> 5</td>\n",
       "      <td> 5</td>\n",
       "      <td>  0.000000</td>\n",
       "    </tr>\n",
       "    <tr>\n",
       "      <th>6360</th>\n",
       "      <td> 5</td>\n",
       "      <td> 22.0</td>\n",
       "      <td>  2.5</td>\n",
       "      <td> 0.0</td>\n",
       "      <td> 2</td>\n",
       "      <td> 14</td>\n",
       "      <td> 3</td>\n",
       "      <td> 3</td>\n",
       "      <td>  0.000000</td>\n",
       "    </tr>\n",
       "    <tr>\n",
       "      <th>6361</th>\n",
       "      <td> 5</td>\n",
       "      <td> 32.0</td>\n",
       "      <td> 13.0</td>\n",
       "      <td> 2.0</td>\n",
       "      <td> 3</td>\n",
       "      <td> 17</td>\n",
       "      <td> 4</td>\n",
       "      <td> 3</td>\n",
       "      <td>  0.000000</td>\n",
       "    </tr>\n",
       "    <tr>\n",
       "      <th>6362</th>\n",
       "      <td> 4</td>\n",
       "      <td> 32.0</td>\n",
       "      <td> 13.0</td>\n",
       "      <td> 1.0</td>\n",
       "      <td> 1</td>\n",
       "      <td> 16</td>\n",
       "      <td> 5</td>\n",
       "      <td> 5</td>\n",
       "      <td>  0.000000</td>\n",
       "    </tr>\n",
       "    <tr>\n",
       "      <th>6363</th>\n",
       "      <td> 5</td>\n",
       "      <td> 22.0</td>\n",
       "      <td>  2.5</td>\n",
       "      <td> 0.0</td>\n",
       "      <td> 2</td>\n",
       "      <td> 14</td>\n",
       "      <td> 3</td>\n",
       "      <td> 1</td>\n",
       "      <td>  0.000000</td>\n",
       "    </tr>\n",
       "    <tr>\n",
       "      <th>6364</th>\n",
       "      <td> 5</td>\n",
       "      <td> 32.0</td>\n",
       "      <td>  6.0</td>\n",
       "      <td> 1.0</td>\n",
       "      <td> 3</td>\n",
       "      <td> 14</td>\n",
       "      <td> 3</td>\n",
       "      <td> 4</td>\n",
       "      <td>  0.000000</td>\n",
       "    </tr>\n",
       "    <tr>\n",
       "      <th>6365</th>\n",
       "      <td> 4</td>\n",
       "      <td> 22.0</td>\n",
       "      <td>  2.5</td>\n",
       "      <td> 0.0</td>\n",
       "      <td> 2</td>\n",
       "      <td> 16</td>\n",
       "      <td> 2</td>\n",
       "      <td> 4</td>\n",
       "      <td>  0.000000</td>\n",
       "    </tr>\n",
       "  </tbody>\n",
       "</table>\n",
       "<p>6366 rows × 9 columns</p>\n",
       "</div>"
      ],
      "text/plain": [
       "      rate_marriage   age  yrs_married  children  religious  educ  occupation  \\\n",
       "0                 3  32.0          9.0       3.0          3    17           2   \n",
       "1                 3  27.0         13.0       3.0          1    14           3   \n",
       "2                 4  22.0          2.5       0.0          1    16           3   \n",
       "3                 4  37.0         16.5       4.0          3    16           5   \n",
       "4                 5  27.0          9.0       1.0          1    14           3   \n",
       "5                 4  27.0          9.0       0.0          2    14           3   \n",
       "6                 5  37.0         23.0       5.5          2    12           5   \n",
       "7                 5  37.0         23.0       5.5          2    12           2   \n",
       "8                 3  22.0          2.5       0.0          2    12           3   \n",
       "9                 3  27.0          6.0       0.0          1    16           3   \n",
       "10                2  27.0          6.0       2.0          1    16           3   \n",
       "11                5  27.0          6.0       2.0          3    14           3   \n",
       "12                3  37.0         16.5       5.5          1    12           2   \n",
       "13                5  27.0          6.0       0.0          2    14           3   \n",
       "14                4  22.0          6.0       1.0          1    14           4   \n",
       "15                4  37.0          9.0       2.0          2    14           3   \n",
       "16                4  27.0          6.0       1.0          1    12           3   \n",
       "17                1  37.0         23.0       5.5          4    14           5   \n",
       "18                2  42.0         23.0       2.0          2    20           4   \n",
       "19                4  37.0          6.0       0.0          2    16           5   \n",
       "20                5  22.0          2.5       0.0          2    14           3   \n",
       "21                3  37.0         16.5       5.5          2     9           3   \n",
       "22                3  42.0         23.0       5.5          3    12           5   \n",
       "23                2  27.0          9.0       2.0          4    20           3   \n",
       "24                4  27.0          6.0       1.0          2    12           5   \n",
       "25                5  27.0          2.5       0.0          3    16           4   \n",
       "26                2  27.0          6.0       2.0          2    12           2   \n",
       "27                5  37.0         13.0       1.0          3    12           3   \n",
       "28                2  32.0         16.5       2.0          2    12           4   \n",
       "29                3  27.0          6.0       1.0          1    14           3   \n",
       "...             ...   ...          ...       ...        ...   ...         ...   \n",
       "6336              5  42.0         23.0       4.0          3    14           5   \n",
       "6337              5  27.0          6.0       0.0          4    14           4   \n",
       "6338              5  42.0         23.0       2.0          3    12           2   \n",
       "6339              4  32.0         13.0       3.0          3    16           4   \n",
       "6340              5  27.0         13.0       3.0          3    16           4   \n",
       "6341              5  27.0          9.0       1.0          2    14           4   \n",
       "6342              4  22.0          2.5       0.0          2    16           4   \n",
       "6343              5  17.5          2.5       0.0          4    12           3   \n",
       "6344              4  32.0         16.5       2.0          2    12           3   \n",
       "6345              5  27.0          9.0       1.0          3    12           3   \n",
       "6346              4  22.0          2.5       0.0          4    14           4   \n",
       "6347              5  22.0          2.5       1.0          2    12           3   \n",
       "6348              5  27.0          0.5       0.0          4    20           4   \n",
       "6349              5  37.0         16.5       3.0          3    14           5   \n",
       "6350              5  32.0         13.0       2.0          4    14           3   \n",
       "6351              4  22.0          0.5       0.0          2    16           3   \n",
       "6352              5  42.0         23.0       2.0          4    12           3   \n",
       "6353              5  22.0          2.5       2.0          2    14           3   \n",
       "6354              5  42.0         23.0       4.0          4    12           3   \n",
       "6355              4  27.0          6.0       0.0          3    12           3   \n",
       "6356              5  32.0         13.0       3.0          3    12           3   \n",
       "6357              5  32.0         13.0       4.0          2    14           4   \n",
       "6358              3  27.0          6.0       2.0          4    14           3   \n",
       "6359              4  22.0          2.5       0.0          3    16           5   \n",
       "6360              5  22.0          2.5       0.0          2    14           3   \n",
       "6361              5  32.0         13.0       2.0          3    17           4   \n",
       "6362              4  32.0         13.0       1.0          1    16           5   \n",
       "6363              5  22.0          2.5       0.0          2    14           3   \n",
       "6364              5  32.0          6.0       1.0          3    14           3   \n",
       "6365              4  22.0          2.5       0.0          2    16           2   \n",
       "\n",
       "      occupation_husb    affairs  \n",
       "0                   5   0.111111  \n",
       "1                   4   3.230769  \n",
       "2                   5   1.400000  \n",
       "3                   5   0.727273  \n",
       "4                   4   4.666666  \n",
       "5                   4   4.666666  \n",
       "6                   4   0.852174  \n",
       "7                   3   1.826086  \n",
       "8                   3   4.799999  \n",
       "9                   5   1.333333  \n",
       "10                  5   3.266665  \n",
       "11                  5   2.041666  \n",
       "12                  3   0.484848  \n",
       "13                  2   2.000000  \n",
       "14                  4   3.266665  \n",
       "15                  6   1.361111  \n",
       "16                  5   2.000000  \n",
       "17                  2   1.826086  \n",
       "18                  4   1.826086  \n",
       "19                  4   2.041666  \n",
       "20                  4   7.839996  \n",
       "21                  2   2.545454  \n",
       "22                  4   0.532609  \n",
       "23                  4   0.622222  \n",
       "24                  4   0.583333  \n",
       "25                  1   4.799999  \n",
       "26                  5   0.166667  \n",
       "27                  4   0.615385  \n",
       "28                  2   1.187878  \n",
       "29                  6  11.199999  \n",
       "...               ...        ...  \n",
       "6336                4   0.000000  \n",
       "6337                4   0.000000  \n",
       "6338                2   0.000000  \n",
       "6339                2   0.000000  \n",
       "6340                2   0.000000  \n",
       "6341                5   0.000000  \n",
       "6342                1   0.000000  \n",
       "6343                5   0.000000  \n",
       "6344                4   0.000000  \n",
       "6345                5   0.000000  \n",
       "6346                2   0.000000  \n",
       "6347                2   0.000000  \n",
       "6348                4   0.000000  \n",
       "6349                5   0.000000  \n",
       "6350                6   0.000000  \n",
       "6351                1   0.000000  \n",
       "6352                2   0.000000  \n",
       "6353                5   0.000000  \n",
       "6354                5   0.000000  \n",
       "6355                4   0.000000  \n",
       "6356                5   0.000000  \n",
       "6357                4   0.000000  \n",
       "6358                1   0.000000  \n",
       "6359                5   0.000000  \n",
       "6360                3   0.000000  \n",
       "6361                3   0.000000  \n",
       "6362                5   0.000000  \n",
       "6363                1   0.000000  \n",
       "6364                4   0.000000  \n",
       "6365                4   0.000000  \n",
       "\n",
       "[6366 rows x 9 columns]"
      ]
     },
     "execution_count": 60,
     "metadata": {},
     "output_type": "execute_result"
    }
   ],
   "source": [
    "affairs_df"
   ]
  },
  {
   "cell_type": "code",
   "execution_count": 61,
   "metadata": {
    "collapsed": false
   },
   "outputs": [],
   "source": [
    "affairs_df['affair_binary'] = (affairs_df['affairs'] > 0)"
   ]
  },
  {
   "cell_type": "code",
   "execution_count": 62,
   "metadata": {
    "collapsed": false
   },
   "outputs": [
    {
     "data": {
      "text/plain": [
       "<matplotlib.axes._subplots.AxesSubplot at 0x10db6e9d0>"
      ]
     },
     "execution_count": 62,
     "metadata": {},
     "output_type": "execute_result"
    },
    {
     "data": {
      "image/png": "[encoded data removed]",
      "text/plain": [
       "<matplotlib.figure.Figure at 0x10fcd9910>"
      ]
     },
     "metadata": {},
     "output_type": "display_data"
    }
   ],
   "source": [
    "sns.heatmap(affairs_df.corr())"
   ]
  },
  {
   "cell_type": "code",
   "execution_count": null,
   "metadata": {
    "collapsed": false
   },
   "outputs": [],
   "source": [
    "affairs_df.corr()\n",
    "# Obviously affairs will correlate to affair_binary but what else?\n",
    "\n",
    "\n",
    "\n",
    "\n",
    "\n",
    "\n",
    "# It seems children, yrs_married, rate_married, and age all correlate to affair_binary\n",
    "# Remember correlations are NOT the single way to identify which features to use\n",
    "# Correlations only give us a number determining how linearlly correlated the variables are\n",
    "# We may find another variable that affects affairs by evaluating the coefficients of our LR"
   ]
  },
  {
   "cell_type": "code",
   "execution_count": 63,
   "metadata": {
    "collapsed": false
   },
   "outputs": [],
   "source": [
    "affairs_X = affairs_df.drop(['affairs', 'affair_binary'], axis=1)\n",
    "affairs_y = affairs_df['affair_binary']"
   ]
  },
  {
   "cell_type": "code",
   "execution_count": 72,
   "metadata": {
    "collapsed": false
   },
   "outputs": [
    {
     "name": "stdout",
     "output_type": "stream",
     "text": [
      "[ 0.72413793  0.70062696  0.73510972  0.71069182  0.71069182  0.73113208\n",
      "  0.72798742  0.7091195   0.75        0.75157233]\n",
      "0.72510695767\n"
     ]
    }
   ],
   "source": [
    "model = LogisticRegression()\n",
    "from sklearn.cross_validation import cross_val_score\n",
    "# check the accuracy on the training set\n",
    "scores = cross_val_score(model, affairs_X, affairs_y, cv=10)\n",
    "print scores\n",
    "print scores.mean()\n",
    "\n",
    "# Looks pretty good"
   ]
  },
  {
   "cell_type": "code",
   "execution_count": 66,
   "metadata": {
    "collapsed": false
   },
   "outputs": [
    {
     "ename": "AttributeError",
     "evalue": "'LogisticRegression' object has no attribute 'coef'",
     "output_type": "error",
     "traceback": [
      "\u001b[0;31m---------------------------------------------------------------------------\u001b[0m",
      "\u001b[0;31mAttributeError\u001b[0m                            Traceback (most recent call last)",
      "\u001b[0;32m<ipython-input-66-112fe51d9ff2>\u001b[0m in \u001b[0;36m<module>\u001b[0;34m()\u001b[0m\n\u001b[1;32m      1\u001b[0m \u001b[0;31m# Explore individual features that make the biggest impact\u001b[0m\u001b[0;34m\u001b[0m\u001b[0;34m\u001b[0m\u001b[0m\n\u001b[1;32m      2\u001b[0m \u001b[0;31m# religious, yrs_married, and occupation. But one of these variables doesn't quite make sense right?\u001b[0m\u001b[0;34m\u001b[0m\u001b[0;34m\u001b[0m\u001b[0m\n\u001b[0;32m----> 3\u001b[0;31m \u001b[0mpd\u001b[0m\u001b[0;34m.\u001b[0m\u001b[0mDataFrame\u001b[0m\u001b[0;34m(\u001b[0m\u001b[0mzip\u001b[0m\u001b[0;34m(\u001b[0m\u001b[0maffairs_X\u001b[0m\u001b[0;34m.\u001b[0m\u001b[0mcolumns\u001b[0m\u001b[0;34m,\u001b[0m \u001b[0mnp\u001b[0m\u001b[0;34m.\u001b[0m\u001b[0mtranspose\u001b[0m\u001b[0;34m(\u001b[0m\u001b[0mmodel\u001b[0m\u001b[0;34m.\u001b[0m\u001b[0mcoef\u001b[0m\u001b[0;34m)\u001b[0m\u001b[0;34m)\u001b[0m\u001b[0;34m)\u001b[0m\u001b[0;34m\u001b[0m\u001b[0m\n\u001b[0m",
      "\u001b[0;31mAttributeError\u001b[0m: 'LogisticRegression' object has no attribute 'coef'"
     ]
    }
   ],
   "source": [
    "# Explore individual features that make the biggest impact\n",
    "# religious, yrs_married, and occupation. But one of these variables doesn't quite make sense right?\n",
    "pd.DataFrame(zip(affairs_X.columns, np.transpose(model.coef_)))"
   ]
  },
  {
   "cell_type": "code",
   "execution_count": null,
   "metadata": {
    "collapsed": true
   },
   "outputs": [],
   "source": [
    "# Dummy Variables:\n",
    "\n",
    "# Encoding qualitiative (nominal) data using separate columns (see slides for linear regression for more)"
   ]
  },
  {
   "cell_type": "markdown",
   "metadata": {},
   "source": [
    "<img src=\"images/dummy.png\">"
   ]
  },
  {
   "cell_type": "code",
   "execution_count": 68,
   "metadata": {
    "collapsed": false
   },
   "outputs": [
    {
     "data": {
      "text/html": [
       "<div style=\"max-height:1000px;max-width:1500px;overflow:auto;\">\n",
       "<table border=\"1\" class=\"dataframe\">\n",
       "  <thead>\n",
       "    <tr style=\"text-align: right;\">\n",
       "      <th></th>\n",
       "      <th>rate_marriage</th>\n",
       "      <th>age</th>\n",
       "      <th>yrs_married</th>\n",
       "      <th>children</th>\n",
       "      <th>religious</th>\n",
       "      <th>educ</th>\n",
       "      <th>occupation</th>\n",
       "      <th>occupation_husb</th>\n",
       "      <th>affairs</th>\n",
       "      <th>affair_binary</th>\n",
       "      <th>occ__2.0</th>\n",
       "      <th>occ__3.0</th>\n",
       "      <th>occ__4.0</th>\n",
       "      <th>occ__5.0</th>\n",
       "      <th>occ__6.0</th>\n",
       "    </tr>\n",
       "  </thead>\n",
       "  <tbody>\n",
       "    <tr>\n",
       "      <th>0</th>\n",
       "      <td> 3</td>\n",
       "      <td> 32</td>\n",
       "      <td>  9.0</td>\n",
       "      <td> 3</td>\n",
       "      <td> 3</td>\n",
       "      <td> 17</td>\n",
       "      <td> 2</td>\n",
       "      <td> 5</td>\n",
       "      <td> 0.111111</td>\n",
       "      <td> True</td>\n",
       "      <td> 1</td>\n",
       "      <td> 0</td>\n",
       "      <td> 0</td>\n",
       "      <td> 0</td>\n",
       "      <td> 0</td>\n",
       "    </tr>\n",
       "    <tr>\n",
       "      <th>1</th>\n",
       "      <td> 3</td>\n",
       "      <td> 27</td>\n",
       "      <td> 13.0</td>\n",
       "      <td> 3</td>\n",
       "      <td> 1</td>\n",
       "      <td> 14</td>\n",
       "      <td> 3</td>\n",
       "      <td> 4</td>\n",
       "      <td> 3.230769</td>\n",
       "      <td> True</td>\n",
       "      <td> 0</td>\n",
       "      <td> 1</td>\n",
       "      <td> 0</td>\n",
       "      <td> 0</td>\n",
       "      <td> 0</td>\n",
       "    </tr>\n",
       "    <tr>\n",
       "      <th>2</th>\n",
       "      <td> 4</td>\n",
       "      <td> 22</td>\n",
       "      <td>  2.5</td>\n",
       "      <td> 0</td>\n",
       "      <td> 1</td>\n",
       "      <td> 16</td>\n",
       "      <td> 3</td>\n",
       "      <td> 5</td>\n",
       "      <td> 1.400000</td>\n",
       "      <td> True</td>\n",
       "      <td> 0</td>\n",
       "      <td> 1</td>\n",
       "      <td> 0</td>\n",
       "      <td> 0</td>\n",
       "      <td> 0</td>\n",
       "    </tr>\n",
       "    <tr>\n",
       "      <th>3</th>\n",
       "      <td> 4</td>\n",
       "      <td> 37</td>\n",
       "      <td> 16.5</td>\n",
       "      <td> 4</td>\n",
       "      <td> 3</td>\n",
       "      <td> 16</td>\n",
       "      <td> 5</td>\n",
       "      <td> 5</td>\n",
       "      <td> 0.727273</td>\n",
       "      <td> True</td>\n",
       "      <td> 0</td>\n",
       "      <td> 0</td>\n",
       "      <td> 0</td>\n",
       "      <td> 1</td>\n",
       "      <td> 0</td>\n",
       "    </tr>\n",
       "    <tr>\n",
       "      <th>4</th>\n",
       "      <td> 5</td>\n",
       "      <td> 27</td>\n",
       "      <td>  9.0</td>\n",
       "      <td> 1</td>\n",
       "      <td> 1</td>\n",
       "      <td> 14</td>\n",
       "      <td> 3</td>\n",
       "      <td> 4</td>\n",
       "      <td> 4.666666</td>\n",
       "      <td> True</td>\n",
       "      <td> 0</td>\n",
       "      <td> 1</td>\n",
       "      <td> 0</td>\n",
       "      <td> 0</td>\n",
       "      <td> 0</td>\n",
       "    </tr>\n",
       "  </tbody>\n",
       "</table>\n",
       "</div>"
      ],
      "text/plain": [
       "   rate_marriage  age  yrs_married  children  religious  educ  occupation  \\\n",
       "0              3   32          9.0         3          3    17           2   \n",
       "1              3   27         13.0         3          1    14           3   \n",
       "2              4   22          2.5         0          1    16           3   \n",
       "3              4   37         16.5         4          3    16           5   \n",
       "4              5   27          9.0         1          1    14           3   \n",
       "\n",
       "   occupation_husb   affairs affair_binary  occ__2.0  occ__3.0  occ__4.0  \\\n",
       "0                5  0.111111          True         1         0         0   \n",
       "1                4  3.230769          True         0         1         0   \n",
       "2                5  1.400000          True         0         1         0   \n",
       "3                5  0.727273          True         0         0         0   \n",
       "4                4  4.666666          True         0         1         0   \n",
       "\n",
       "   occ__5.0  occ__6.0  \n",
       "0         0         0  \n",
       "1         0         0  \n",
       "2         0         0  \n",
       "3         1         0  \n",
       "4         0         0  "
      ]
     },
     "execution_count": 68,
     "metadata": {},
     "output_type": "execute_result"
    }
   ],
   "source": [
    "occuptation_dummies = pd.get_dummies(affairs_df['occupation'], prefix='occ_').iloc[:, 1:]\n",
    "\n",
    "# concatenate the dummy variable columns onto the original DataFrame (axis=0 means rows, axis=1 means columns)\n",
    "affairs_df = pd.concat([affairs_df, occuptation_dummies], axis=1)\n",
    "affairs_df.head()\n"
   ]
  },
  {
   "cell_type": "code",
   "execution_count": 69,
   "metadata": {
    "collapsed": false
   },
   "outputs": [
    {
     "data": {
      "text/html": [
       "<div style=\"max-height:1000px;max-width:1500px;overflow:auto;\">\n",
       "<table border=\"1\" class=\"dataframe\">\n",
       "  <thead>\n",
       "    <tr style=\"text-align: right;\">\n",
       "      <th></th>\n",
       "      <th>rate_marriage</th>\n",
       "      <th>age</th>\n",
       "      <th>yrs_married</th>\n",
       "      <th>children</th>\n",
       "      <th>religious</th>\n",
       "      <th>educ</th>\n",
       "      <th>occupation</th>\n",
       "      <th>occupation_husb</th>\n",
       "      <th>affairs</th>\n",
       "      <th>affair_binary</th>\n",
       "      <th>occ__2.0</th>\n",
       "      <th>occ__3.0</th>\n",
       "      <th>occ__4.0</th>\n",
       "      <th>occ__5.0</th>\n",
       "      <th>occ__6.0</th>\n",
       "      <th>occ_husb__2.0</th>\n",
       "      <th>occ_husb__3.0</th>\n",
       "      <th>occ_husb__4.0</th>\n",
       "      <th>occ_husb__5.0</th>\n",
       "      <th>occ_husb__6.0</th>\n",
       "    </tr>\n",
       "  </thead>\n",
       "  <tbody>\n",
       "    <tr>\n",
       "      <th>0</th>\n",
       "      <td> 3</td>\n",
       "      <td> 32</td>\n",
       "      <td>  9.0</td>\n",
       "      <td> 3</td>\n",
       "      <td> 3</td>\n",
       "      <td> 17</td>\n",
       "      <td> 2</td>\n",
       "      <td> 5</td>\n",
       "      <td> 0.111111</td>\n",
       "      <td> True</td>\n",
       "      <td> 1</td>\n",
       "      <td> 0</td>\n",
       "      <td> 0</td>\n",
       "      <td> 0</td>\n",
       "      <td> 0</td>\n",
       "      <td> 0</td>\n",
       "      <td> 0</td>\n",
       "      <td> 0</td>\n",
       "      <td> 1</td>\n",
       "      <td> 0</td>\n",
       "    </tr>\n",
       "    <tr>\n",
       "      <th>1</th>\n",
       "      <td> 3</td>\n",
       "      <td> 27</td>\n",
       "      <td> 13.0</td>\n",
       "      <td> 3</td>\n",
       "      <td> 1</td>\n",
       "      <td> 14</td>\n",
       "      <td> 3</td>\n",
       "      <td> 4</td>\n",
       "      <td> 3.230769</td>\n",
       "      <td> True</td>\n",
       "      <td> 0</td>\n",
       "      <td> 1</td>\n",
       "      <td> 0</td>\n",
       "      <td> 0</td>\n",
       "      <td> 0</td>\n",
       "      <td> 0</td>\n",
       "      <td> 0</td>\n",
       "      <td> 1</td>\n",
       "      <td> 0</td>\n",
       "      <td> 0</td>\n",
       "    </tr>\n",
       "    <tr>\n",
       "      <th>2</th>\n",
       "      <td> 4</td>\n",
       "      <td> 22</td>\n",
       "      <td>  2.5</td>\n",
       "      <td> 0</td>\n",
       "      <td> 1</td>\n",
       "      <td> 16</td>\n",
       "      <td> 3</td>\n",
       "      <td> 5</td>\n",
       "      <td> 1.400000</td>\n",
       "      <td> True</td>\n",
       "      <td> 0</td>\n",
       "      <td> 1</td>\n",
       "      <td> 0</td>\n",
       "      <td> 0</td>\n",
       "      <td> 0</td>\n",
       "      <td> 0</td>\n",
       "      <td> 0</td>\n",
       "      <td> 0</td>\n",
       "      <td> 1</td>\n",
       "      <td> 0</td>\n",
       "    </tr>\n",
       "    <tr>\n",
       "      <th>3</th>\n",
       "      <td> 4</td>\n",
       "      <td> 37</td>\n",
       "      <td> 16.5</td>\n",
       "      <td> 4</td>\n",
       "      <td> 3</td>\n",
       "      <td> 16</td>\n",
       "      <td> 5</td>\n",
       "      <td> 5</td>\n",
       "      <td> 0.727273</td>\n",
       "      <td> True</td>\n",
       "      <td> 0</td>\n",
       "      <td> 0</td>\n",
       "      <td> 0</td>\n",
       "      <td> 1</td>\n",
       "      <td> 0</td>\n",
       "      <td> 0</td>\n",
       "      <td> 0</td>\n",
       "      <td> 0</td>\n",
       "      <td> 1</td>\n",
       "      <td> 0</td>\n",
       "    </tr>\n",
       "    <tr>\n",
       "      <th>4</th>\n",
       "      <td> 5</td>\n",
       "      <td> 27</td>\n",
       "      <td>  9.0</td>\n",
       "      <td> 1</td>\n",
       "      <td> 1</td>\n",
       "      <td> 14</td>\n",
       "      <td> 3</td>\n",
       "      <td> 4</td>\n",
       "      <td> 4.666666</td>\n",
       "      <td> True</td>\n",
       "      <td> 0</td>\n",
       "      <td> 1</td>\n",
       "      <td> 0</td>\n",
       "      <td> 0</td>\n",
       "      <td> 0</td>\n",
       "      <td> 0</td>\n",
       "      <td> 0</td>\n",
       "      <td> 1</td>\n",
       "      <td> 0</td>\n",
       "      <td> 0</td>\n",
       "    </tr>\n",
       "  </tbody>\n",
       "</table>\n",
       "</div>"
      ],
      "text/plain": [
       "   rate_marriage  age  yrs_married  children  religious  educ  occupation  \\\n",
       "0              3   32          9.0         3          3    17           2   \n",
       "1              3   27         13.0         3          1    14           3   \n",
       "2              4   22          2.5         0          1    16           3   \n",
       "3              4   37         16.5         4          3    16           5   \n",
       "4              5   27          9.0         1          1    14           3   \n",
       "\n",
       "   occupation_husb   affairs affair_binary  occ__2.0  occ__3.0  occ__4.0  \\\n",
       "0                5  0.111111          True         1         0         0   \n",
       "1                4  3.230769          True         0         1         0   \n",
       "2                5  1.400000          True         0         1         0   \n",
       "3                5  0.727273          True         0         0         0   \n",
       "4                4  4.666666          True         0         1         0   \n",
       "\n",
       "   occ__5.0  occ__6.0  occ_husb__2.0  occ_husb__3.0  occ_husb__4.0  \\\n",
       "0         0         0              0              0              0   \n",
       "1         0         0              0              0              1   \n",
       "2         0         0              0              0              0   \n",
       "3         1         0              0              0              0   \n",
       "4         0         0              0              0              1   \n",
       "\n",
       "   occ_husb__5.0  occ_husb__6.0  \n",
       "0              1              0  \n",
       "1              0              0  \n",
       "2              1              0  \n",
       "3              1              0  \n",
       "4              0              0  "
      ]
     },
     "execution_count": 69,
     "metadata": {},
     "output_type": "execute_result"
    }
   ],
   "source": [
    "occuptation_dummies = pd.get_dummies(affairs_df['occupation_husb'], prefix='occ_husb_').iloc[:, 1:]\n",
    "\n",
    "# concatenate the dummy variable columns onto the original DataFrame (axis=0 means rows, axis=1 means columns)\n",
    "affairs_df = pd.concat([affairs_df, occuptation_dummies], axis=1)\n",
    "affairs_df.head()"
   ]
  },
  {
   "cell_type": "code",
   "execution_count": 70,
   "metadata": {
    "collapsed": true
   },
   "outputs": [],
   "source": [
    "# remove appropiate columns for feature set\n",
    "affairs_X = affairs_df.drop(['affairs', 'affair_binary', 'occupation', 'occupation_husb'], axis=1)\n",
    "affairs_y = affairs_df['affair_binary']"
   ]
  },
  {
   "cell_type": "code",
   "execution_count": 71,
   "metadata": {
    "collapsed": false
   },
   "outputs": [
    {
     "data": {
      "text/plain": [
       "0.72588752748978946"
      ]
     },
     "execution_count": 71,
     "metadata": {},
     "output_type": "execute_result"
    }
   ],
   "source": [
    "model = LogisticRegression()\n",
    "model = model.fit(affairs_X, affairs_y)\n",
    "\n",
    "# check the accuracy on the training set\n",
    "model.score(affairs_X, affairs_y)"
   ]
  },
  {
   "cell_type": "code",
   "execution_count": 73,
   "metadata": {
    "collapsed": false
   },
   "outputs": [
    {
     "ename": "AttributeError",
     "evalue": "'LogisticRegression' object has no attribute 'coef_'",
     "output_type": "error",
     "traceback": [
      "\u001b[0;31m---------------------------------------------------------------------------\u001b[0m",
      "\u001b[0;31mAttributeError\u001b[0m                            Traceback (most recent call last)",
      "\u001b[0;32m<ipython-input-73-8e11b1e40348>\u001b[0m in \u001b[0;36m<module>\u001b[0;34m()\u001b[0m\n\u001b[0;32m----> 1\u001b[0;31m \u001b[0mpd\u001b[0m\u001b[0;34m.\u001b[0m\u001b[0mDataFrame\u001b[0m\u001b[0;34m(\u001b[0m\u001b[0mzip\u001b[0m\u001b[0;34m(\u001b[0m\u001b[0maffairs_X\u001b[0m\u001b[0;34m.\u001b[0m\u001b[0mcolumns\u001b[0m\u001b[0;34m,\u001b[0m \u001b[0mnp\u001b[0m\u001b[0;34m.\u001b[0m\u001b[0mtranspose\u001b[0m\u001b[0;34m(\u001b[0m\u001b[0mmodel\u001b[0m\u001b[0;34m.\u001b[0m\u001b[0mcoef_\u001b[0m\u001b[0;34m)\u001b[0m\u001b[0;34m)\u001b[0m\u001b[0;34m,\u001b[0m \u001b[0mcolumns\u001b[0m \u001b[0;34m=\u001b[0m \u001b[0;34m[\u001b[0m\u001b[0;34m'features'\u001b[0m\u001b[0;34m,\u001b[0m \u001b[0;34m'coef'\u001b[0m\u001b[0;34m]\u001b[0m\u001b[0;34m)\u001b[0m\u001b[0;34m\u001b[0m\u001b[0m\n\u001b[0m",
      "\u001b[0;31mAttributeError\u001b[0m: 'LogisticRegression' object has no attribute 'coef_'"
     ]
    }
   ],
   "source": [
    "pd.DataFrame(zip(affairs_X.columns, np.transpose(model.coef_)), columns = ['features', 'coef'])"
   ]
  },
  {
   "cell_type": "code",
   "execution_count": null,
   "metadata": {
    "collapsed": true
   },
   "outputs": [],
   "source": [
    "# compare KNN to LR"
   ]
  },
  {
   "cell_type": "code",
   "execution_count": 74,
   "metadata": {
    "collapsed": false
   },
   "outputs": [
    {
     "data": {
      "text/plain": [
       "0.68630248906529234"
      ]
     },
     "execution_count": 74,
     "metadata": {},
     "output_type": "execute_result"
    }
   ],
   "source": [
    "knn = KNeighborsClassifier(n_neighbors=7)\n",
    "cross_val_score(knn, affairs_X, affairs_y, cv=5, scoring='accuracy').mean()"
   ]
  },
  {
   "cell_type": "code",
   "execution_count": 75,
   "metadata": {
    "collapsed": false
   },
   "outputs": [
    {
     "data": {
      "text/plain": [
       "0.72558005785768587"
      ]
     },
     "execution_count": 75,
     "metadata": {},
     "output_type": "execute_result"
    }
   ],
   "source": [
    "logreg = LogisticRegression()\n",
    "cross_val_score(logreg, affairs_X, affairs_y, cv=5, scoring='accuracy').mean()"
   ]
  },
  {
   "cell_type": "code",
   "execution_count": null,
   "metadata": {
    "collapsed": false
   },
   "outputs": [],
   "source": []
  },
  {
   "cell_type": "code",
   "execution_count": null,
   "metadata": {
    "collapsed": false
   },
   "outputs": [],
   "source": []
  },
  {
   "cell_type": "code",
   "execution_count": null,
   "metadata": {
    "collapsed": false
   },
   "outputs": [],
   "source": []
  },
  {
   "cell_type": "code",
   "execution_count": null,
   "metadata": {
    "collapsed": true
   },
   "outputs": [],
   "source": []
  },
  {
   "cell_type": "code",
   "execution_count": null,
   "metadata": {
    "collapsed": true
   },
   "outputs": [],
   "source": [
    "# When we are investigating individual correlations between features and categorical responses\n",
    "# Logistic regression has a good shot :)\n",
    "\n",
    "# KNN relies on the entire n-space to make predictions while LR uses the model parameters to focus\n",
    "# on one or more particular features\n",
    "\n",
    "# LR has concept of \"importance\" of features"
   ]
  },
  {
   "cell_type": "code",
   "execution_count": null,
   "metadata": {
    "collapsed": true
   },
   "outputs": [],
   "source": []
  },
  {
   "cell_type": "code",
   "execution_count": null,
   "metadata": {
    "collapsed": true
   },
   "outputs": [],
   "source": []
  },
  {
   "cell_type": "code",
   "execution_count": null,
   "metadata": {
    "collapsed": true
   },
   "outputs": [],
   "source": [
    "# Final Thought Experiment\n",
    "\n",
    "# Why might KNN (a kind of look alike model) not perform well here?"
   ]
  },
  {
   "cell_type": "code",
   "execution_count": null,
   "metadata": {
    "collapsed": false
   },
   "outputs": [],
   "source": []
  },
  {
   "cell_type": "code",
   "execution_count": null,
   "metadata": {
    "collapsed": true
   },
   "outputs": [],
   "source": []
  },
  {
   "cell_type": "code",
   "execution_count": null,
   "metadata": {
    "collapsed": true
   },
   "outputs": [],
   "source": []
  }
 ],
 "metadata": {
  "kernelspec": {
   "display_name": "Python 2",
   "language": "python",
   "name": "python2"
  },
  "language_info": {
   "codemirror_mode": {
    "name": "ipython",
    "version": 2
   },
   "file_extension": ".py",
   "mimetype": "text/x-python",
   "name": "python",
   "nbconvert_exporter": "python",
   "pygments_lexer": "ipython2",
   "version": "2.7.9"
  }
 },
 "nbformat": 4,
 "nbformat_minor": 0
}
