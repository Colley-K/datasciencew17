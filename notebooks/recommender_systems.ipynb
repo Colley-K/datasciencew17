{
 "cells": [
  {
   "cell_type": "markdown",
   "metadata": {},
   "source": [
    "Recommendation Enginers\n",
    "- Content Based and Collaborative Based Filtering\n",
    "- Jaccard Similarity\n",
    "- Modified KNN"
   ]
  },
  {
   "cell_type": "code",
   "execution_count": 3,
   "metadata": {
    "collapsed": false
   },
   "outputs": [],
   "source": [
    "########################################\n",
    "## Collaborative-Based User Filtering ##\n",
    "########################################\n",
    "import pandas as pd\n",
    "\n",
    "#read in brands data\n",
    "user_brands = pd.read_csv('../data/user_brand.csv')"
   ]
  },
  {
   "cell_type": "code",
   "execution_count": 4,
   "metadata": {
    "collapsed": false
   },
   "outputs": [
    {
     "data": {
      "text/plain": [
       "Target             1866\n",
       "Old Navy           1200\n",
       "Home Depot         1186\n",
       "Kohl's             1157\n",
       "Banana Republic     932\n",
       "Nordstrom           904\n",
       "Gap                 860\n",
       "Crate & Barrel      816\n",
       "Express             785\n",
       "KitchenAid          700\n",
       "J.Crew              569\n",
       "Container Store     564\n",
       "Steve Madden        539\n",
       "Guess               509\n",
       "Cuisinart           506\n",
       "...\n",
       "Joseph Abboud        1\n",
       "Hugo Boss            1\n",
       "Chanel               1\n",
       "Sky                  1\n",
       "Gymboree             1\n",
       "Marmot               1\n",
       "Stride Rite          1\n",
       "Oakley               1\n",
       "DC                   1\n",
       "J Jill               1\n",
       "Carter               1\n",
       "Brooks Brothers      1\n",
       "David Tutera         1\n",
       "Barneys Warehouse    1\n",
       "Walk-Over            1\n",
       "Length: 198, dtype: int64"
      ]
     },
     "execution_count": 4,
     "metadata": {},
     "output_type": "execute_result"
    }
   ],
   "source": [
    "#look at count of stores\n",
    "user_brands.Store.value_counts()"
   ]
  },
  {
   "cell_type": "code",
   "execution_count": 5,
   "metadata": {
    "collapsed": true
   },
   "outputs": [],
   "source": [
    "# Series of user IDs, note the duplicates\n",
    "user_ids = user_brands.ID"
   ]
  },
  {
   "cell_type": "code",
   "execution_count": 6,
   "metadata": {
    "collapsed": false
   },
   "outputs": [
    {
     "data": {
      "text/plain": [
       "ID                    \n",
       "80002  Home Depot         1\n",
       "       Target             1\n",
       "80010  Kohl's             1\n",
       "       DKNY               1\n",
       "       Converse           1\n",
       "       Levi's             1\n",
       "       Express            1\n",
       "       Old Navy           1\n",
       "       Container Store    1\n",
       "       Puma               1\n",
       "       Cuisinart          1\n",
       "       Nordstrom          1\n",
       "80011  Crate & Barrel     1\n",
       "       BCBGMAXAZRIA       1\n",
       "       Banana Republic    1\n",
       "...\n",
       "91944  Crate & Barrel       1\n",
       "       Target               1\n",
       "       Nine West            1\n",
       "       Guess                1\n",
       "       French Connection    1\n",
       "91946  Nordstrom            1\n",
       "       Target               1\n",
       "       Levi's               1\n",
       "       Old Navy             1\n",
       "91955  Serena and Lily      1\n",
       "91957  Container Store      1\n",
       "       Target               1\n",
       "       BCBGMAXAZRIA         1\n",
       "       Express              1\n",
       "       Old Navy             1\n",
       "Length: 23804, dtype: int64"
      ]
     },
     "execution_count": 6,
     "metadata": {},
     "output_type": "execute_result"
    }
   ],
   "source": [
    "# groupby ID to see what each user likes!\n",
    "user_brands.groupby('ID').Store.value_counts()"
   ]
  },
  {
   "cell_type": "code",
   "execution_count": 7,
   "metadata": {
    "collapsed": true
   },
   "outputs": [],
   "source": [
    "# turns my data frame into a dictionary\n",
    "# where the key is a user ID, and the value is a \n",
    "# list of stores that the user \"likes\"\n",
    "brandsfor = {str(k): list(v) for k,v in user_brands.groupby(\"ID\")[\"Store\"]}"
   ]
  },
  {
   "cell_type": "code",
   "execution_count": 8,
   "metadata": {
    "collapsed": false
   },
   "outputs": [
    {
     "data": {
      "text/plain": [
       "[\"Kohl's\", 'Target']"
      ]
     },
     "execution_count": 8,
     "metadata": {},
     "output_type": "execute_result"
    }
   ],
   "source": [
    "# try it out. User 83065 likes Kohl's and Target\n",
    "brandsfor['83065']"
   ]
  },
  {
   "cell_type": "code",
   "execution_count": null,
   "metadata": {
    "collapsed": true
   },
   "outputs": [],
   "source": [
    "# User 82983 likes many more!\n",
    "brandsfor['82983']\n",
    "  \n"
   ]
  },
  {
   "cell_type": "code",
   "execution_count": null,
   "metadata": {
    "collapsed": true
   },
   "outputs": [],
   "source": []
  },
  {
   "cell_type": "code",
   "execution_count": 9,
   "metadata": {
    "collapsed": false
   },
   "outputs": [
    {
     "data": {
      "text/plain": [
       "'\\nThe Jaccard Similarity allows us to compare two sets\\nIf we regard people as merely being a set of brands they prefer\\nthe Jaccard Similarity allows us to compare people\\n\\nExample. the jaccard similarty between user 82983 and 83065 is .125\\n            because\\n            brandsfor[\\'83065\\'] == [\"Kohl\\'s\", \\'Target\\']\\n            brandsfor[\\'82983\\'] == [\\'Hanky Panky\\', \\'Betsey Johnson\\', \\'Converse\\', \\'Steve Madden\\', \\'Old Navy\\', \\'Target\\', \\'Nordstrom\\']\\n\\nthe intersection of these two sets is just set(\"Target\")\\nthe union of the two sets is set([\\'Target\\', \\'Hanky Panky\\', \\'Betsey Johnson\\', \\'Converse\\', \\'Steve Madden\\', \\'Old Navy\\', \\'Target\\', \\'Nordstrom\\'])\\nso the len(intersection) / len(union) = 1 / 8 == .125\\n\\nEXERCISE: what is the Jaccard Similarity \\n          between user 82956 and user 82963?\\n# ANSWER == 0.3333333333\\n'"
      ]
     },
     "execution_count": 9,
     "metadata": {},
     "output_type": "execute_result"
    }
   ],
   "source": [
    "########################\n",
    "## Jaccard Similarity ##\n",
    "########################\n",
    "\n",
    "'''\n",
    "The Jaccard Similarity allows us to compare two sets\n",
    "If we regard people as merely being a set of brands they prefer\n",
    "the Jaccard Similarity allows us to compare people\n",
    "\n",
    "Example. the jaccard similarty between user 82983 and 83065 is .125\n",
    "            because\n",
    "            brandsfor['83065'] == [\"Kohl's\", 'Target']\n",
    "            brandsfor['82983'] == ['Hanky Panky', 'Betsey Johnson', 'Converse', 'Steve Madden', 'Old Navy', 'Target', 'Nordstrom']\n",
    "\n",
    "the intersection of these two sets is just set(\"Target\")\n",
    "the union of the two sets is set(['Target', 'Hanky Panky', 'Betsey Johnson', 'Converse', 'Steve Madden', 'Old Navy', 'Target', 'Nordstrom'])\n",
    "so the len(intersection) / len(union) = 1 / 8 == .125\n",
    "\n",
    "EXERCISE: what is the Jaccard Similarity \n",
    "          between user 82956 and user 82963?\n",
    "# ANSWER == 0.3333333333\n",
    "'''"
   ]
  },
  {
   "cell_type": "code",
   "execution_count": 10,
   "metadata": {
    "collapsed": false
   },
   "outputs": [
    {
     "data": {
      "text/plain": [
       "['Puma', 'New Balance', 'Old Navy', 'Target']"
      ]
     },
     "execution_count": 10,
     "metadata": {},
     "output_type": "execute_result"
    }
   ],
   "source": [
    "brandsfor['82956'] # == ['Diesel', 'Old Navy', 'Crate & Barrel', 'Target']\n",
    "\n",
    "brandsfor['82963'] # == ['Puma', 'New Balance', 'Old Navy', 'Target']\n"
   ]
  },
  {
   "cell_type": "markdown",
   "metadata": {},
   "source": [
    "EXERCISE: \n",
    "\n",
    "Complete the jaccard method below.\n",
    "          It should take in a list of brands, and output the \n",
    "          jaccard similarity between them\n",
    "\n",
    "This should work with anything in the set, for example\n",
    "jaccard([1,2,3], [2,3,4,5,6])  == .3333333\n",
    "\n",
    "HINT: set1 & set2 is the intersection\n",
    "      set1 | set2 is the union"
   ]
  },
  {
   "cell_type": "code",
   "execution_count": null,
   "metadata": {
    "collapsed": true
   },
   "outputs": [],
   "source": []
  },
  {
   "cell_type": "code",
   "execution_count": null,
   "metadata": {
    "collapsed": true
   },
   "outputs": [],
   "source": [
    "# try it out!\n",
    "brandsfor['83065'] # brands for user 83065\n",
    "brandsfor['82983'] # brands for user 82983\n",
    "jaccard(brandsfor['83065'], brandsfor['82983'])\n",
    "\n",
    "\n",
    "jaccard(brandsfor['82956'], brandsfor['82963'])"
   ]
  },
  {
   "cell_type": "code",
   "execution_count": 11,
   "metadata": {
    "collapsed": false
   },
   "outputs": [
    {
     "data": {
      "text/plain": [
       "\"\\nOur recommender will be a modified KNN collaborative algorithm.\\nInput: A given user's brands that they like\\nOutput: A set (no repeats) of brand recommendations based on\\n        similar users preferences\\n\\n1. When a user's brands are given to us, we will calculate the input user's\\njaccard similarity with every person in our brandsfor dictionary\\n\\n2. We will pick the K most similar users and recommend\\nthe brands that they like that the given user doesn't know about\\n\\nEXAMPLE:\\nGiven User likes ['Target', 'Old Navy', 'Banana Republic', 'H&M']\\nOutputs: ['Forever 21', 'Gap', 'Steve Madden']\\n\""
      ]
     },
     "execution_count": 11,
     "metadata": {},
     "output_type": "execute_result"
    }
   ],
   "source": [
    "#######################\n",
    "### Our Recommender ###\n",
    "#######################\n",
    "\n",
    "'''\n",
    "Our recommender will be a modified KNN collaborative algorithm.\n",
    "Input: A given user's brands that they like\n",
    "Output: A set (no repeats) of brand recommendations based on\n",
    "        similar users preferences\n",
    "\n",
    "1. When a user's brands are given to us, we will calculate the input user's\n",
    "jaccard similarity with every person in our brandsfor dictionary\n",
    "\n",
    "2. We will pick the K most similar users and recommend\n",
    "the brands that they like that the given user doesn't know about\n",
    "\n",
    "EXAMPLE:\n",
    "Given User likes ['Target', 'Old Navy', 'Banana Republic', 'H&M']\n",
    "Outputs: ['Forever 21', 'Gap', 'Steve Madden']\n",
    "'''"
   ]
  },
  {
   "cell_type": "code",
   "execution_count": null,
   "metadata": {
    "collapsed": true
   },
   "outputs": [],
   "source": [
    "given_user = ['Target', 'Old Navy', 'Banana Republic', 'H&M']\n",
    "\n",
    "#similarty between user 83065 and given user\n",
    "brandsfor['83065']\n",
    "jaccard(brandsfor['83065'], given_user) \n",
    "# should be 0.2"
   ]
  },
  {
   "cell_type": "code",
   "execution_count": 12,
   "metadata": {
    "collapsed": false
   },
   "outputs": [
    {
     "data": {
      "text/plain": [
       "\"\\nEXERCISE\\n    Find the similarty between given_user and ALL of our users\\n    output should be a dictionary where\\n    the key is a user id and the value is the jaccard similarity\\n{...\\n '83055': 0.25,\\n '83056': 0.0,\\n '83058': 0.1111111111111111,\\n '83060': 0.07894736842105263,\\n '83061': 0.4,\\n '83064': 0.25,\\n '83065': 0.2,\\n ...}\\n \""
      ]
     },
     "execution_count": 12,
     "metadata": {},
     "output_type": "execute_result"
    }
   ],
   "source": [
    "'''\n",
    "EXERCISE\n",
    "    Find the similarty between given_user and ALL of our users\n",
    "    output should be a dictionary where\n",
    "    the key is a user id and the value is the jaccard similarity\n",
    "{...\n",
    " '83055': 0.25,\n",
    " '83056': 0.0,\n",
    " '83058': 0.1111111111111111,\n",
    " '83060': 0.07894736842105263,\n",
    " '83061': 0.4,\n",
    " '83064': 0.25,\n",
    " '83065': 0.2,\n",
    " ...}\n",
    " '''"
   ]
  },
  {
   "cell_type": "code",
   "execution_count": null,
   "metadata": {
    "collapsed": true
   },
   "outputs": [],
   "source": [
    "K = 5 #number of similar users to look at\n",
    "\n",
    "\n",
    "# Now for the top K most similar users, let's aggregate the brands they like.\n",
    "# I sort by the jaccard similarty so most similar users are first\n",
    "# I use the sorted method, but because I'm dorting dictionaries\n",
    "# I specify the \"key\" as the value of the dictionary\n",
    "# the key is what the list should sort on\n",
    "# so the most similar users end up being on top\n",
    "most_similar_users = sorted(similarities, key=similarities.get, reverse=True)[:K]"
   ]
  },
  {
   "cell_type": "code",
   "execution_count": null,
   "metadata": {
    "collapsed": true
   },
   "outputs": [],
   "source": [
    "# list of K similar users' IDs\n",
    "most_similar_users"
   ]
  },
  {
   "cell_type": "code",
   "execution_count": null,
   "metadata": {
    "collapsed": true
   },
   "outputs": [],
   "source": [
    "# let's see what some of the most similar users likes\n",
    "brandsfor[most_similar_users[0]]\n",
    "\n",
    "brandsfor[most_similar_users[3]]"
   ]
  },
  {
   "cell_type": "code",
   "execution_count": null,
   "metadata": {
    "collapsed": true
   },
   "outputs": [],
   "source": [
    "# Aggregate all brands liked by the K most similar users into a single set\n",
    "brands_to_recommend = set()\n",
    "for user in most_similar_users:\n",
    "    # for each user\n",
    "    brands_to_recommend.update(set(brandsfor[user]))\n",
    "    # add to the set of brands_to_recommend"
   ]
  },
  {
   "cell_type": "code",
   "execution_count": null,
   "metadata": {
    "collapsed": true
   },
   "outputs": [],
   "source": [
    "# UH OH WE HAVE DUPLICATES. Banana Republic, Old Navy, Target are all repeats.\n",
    "\n",
    "\n",
    "# EXERCISE: use a set difference so brands_to_recommend only has\n",
    "# brands that given_user hasn't seen yet"
   ]
  },
  {
   "cell_type": "code",
   "execution_count": null,
   "metadata": {
    "collapsed": true
   },
   "outputs": [],
   "source": [
    "######################\n",
    "## One Step Further ##\n",
    "######################\n",
    "\n",
    "# We can take this one step further and caculate a \"score\" of recommendation\n",
    "# We will define the score as being the number of times\n",
    "# a brand appears within the first K users\n",
    "brands_to_recommend = []\n",
    "for user in most_similar_users:\n",
    "    brands_to_recommend += list(set(brandsfor[user]) - set(given_user))"
   ]
  },
  {
   "cell_type": "code",
   "execution_count": null,
   "metadata": {
    "collapsed": true
   },
   "outputs": [],
   "source": [
    "# Use a counter to count the number of times a brand appears\n",
    "recommend_with_scores = Counter(brands_to_recommend)\n"
   ]
  },
  {
   "cell_type": "code",
   "execution_count": null,
   "metadata": {
    "collapsed": true
   },
   "outputs": [],
   "source": [
    "\n",
    "# Now we see Gap has the highest score!\n",
    "recommend_with_scores"
   ]
  },
  {
   "cell_type": "code",
   "execution_count": null,
   "metadata": {
    "collapsed": true
   },
   "outputs": [],
   "source": [
    "\n",
    "#################################\n",
    "#### Collaborative Item based ###\n",
    "#################################\n",
    "\n",
    "'''\n",
    "We can also define a similary between items using jaccard similarity.\n",
    "We can say that the similarity between two items is the jaccard similarity\n",
    "between the sets of people who like the two brands.\n",
    "\n",
    "Example: similarity of Gap to Target is:\n",
    "'''"
   ]
  },
  {
   "cell_type": "code",
   "execution_count": null,
   "metadata": {
    "collapsed": true
   },
   "outputs": [],
   "source": [
    "# filter users by liking Gap\n",
    "gap_lovers = set(user_brands['Gap' == user_brands.Store].ID)\n",
    "old_navy_lovers = set(user_brands['Old Navy' == user_brands.Store].ID)"
   ]
  },
  {
   "cell_type": "code",
   "execution_count": null,
   "metadata": {
    "collapsed": true
   },
   "outputs": [],
   "source": [
    "\n",
    "# similarty between Gap and Old Navy\n",
    "jaccard(gap_lovers, old_navy_lovers)"
   ]
  },
  {
   "cell_type": "code",
   "execution_count": null,
   "metadata": {
    "collapsed": true
   },
   "outputs": [],
   "source": [
    "guess_lovers = set(user_brands['Guess' == user_brands.Store].ID)\n",
    "# similarty between Gap andGuess\n",
    "jaccard(guess_lovers, gap_lovers)"
   ]
  },
  {
   "cell_type": "code",
   "execution_count": null,
   "metadata": {
    "collapsed": true
   },
   "outputs": [],
   "source": [
    "\n",
    "calvin_lovers = set(user_brands['Calvin Klein' == user_brands.Store].ID)\n",
    "# similarty between Gap and Calvin Klein\n",
    "jaccard(calvin_lovers, gap_lovers)"
   ]
  }
 ],
 "metadata": {
  "kernelspec": {
   "display_name": "Python 2",
   "language": "python",
   "name": "python2"
  },
  "language_info": {
   "codemirror_mode": {
    "name": "ipython",
    "version": 2
   },
   "file_extension": ".py",
   "mimetype": "text/x-python",
   "name": "python",
   "nbconvert_exporter": "python",
   "pygments_lexer": "ipython2",
   "version": "2.7.9"
  }
 },
 "nbformat": 4,
 "nbformat_minor": 0
}
